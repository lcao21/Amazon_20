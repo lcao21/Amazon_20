{
 "cells": [
  {
   "cell_type": "markdown",
   "metadata": {},
   "source": [
    "# Dynamic web scrapping from OpenBudget website\n",
    "\n",
    "### Requires Chromedriver download (or driver for relevant browser)\n",
    "\n",
    "### Requires you to load whole page (i.e. scroll until the end) to get full and correct results"
   ]
  },
  {
   "cell_type": "code",
   "execution_count": 2,
   "metadata": {},
   "outputs": [],
   "source": [
    "#! pip install pandas\n",
    "#! pip install selenium\n",
    "import pandas as pd\n",
    "from selenium import webdriver\n",
    "DRIVER_PATH = '/Users/lilycao/Downloads/chromedriver'"
   ]
  },
  {
   "cell_type": "code",
   "execution_count": 54,
   "metadata": {},
   "outputs": [],
   "source": [
    "def choose_vis(url, vis_type):\n",
    "    '''\n",
    "    Creates url of webpage with the visualization of choice displayed \n",
    "    \n",
    "    Inputs: \n",
    "    - url: string\n",
    "    - vis_type: string\n",
    "        options: \n",
    "            - none: horizontal bar chart\n",
    "            - 'pieChart': pie chart\n",
    "            - 'lineChart': line chart of budgets over time\n",
    "    \n",
    "    Output: string\n",
    "    '''\n",
    "    url += '?vis=' + vis_type\n",
    "    return url"
   ]
  },
  {
   "cell_type": "code",
   "execution_count": 47,
   "metadata": {
    "scrolled": false
   },
   "outputs": [],
   "source": [
    "def get_all_text(driver):\n",
    "    '''\n",
    "    Finds td tags and extracts texts from those with text length's greater than 0\n",
    "    \n",
    "    Input: driver\n",
    "    Output: list of strings\n",
    "    '''\n",
    "    all_text = []\n",
    "    for i in driver.find_elements_by_tag_name('td'):\n",
    "        if len(i.text) > 0:\n",
    "            all_text.append(i.text)\n",
    "\n",
    "    all_text += ['100%']\n",
    "    return all_text"
   ]
  },
  {
   "cell_type": "code",
   "execution_count": 6,
   "metadata": {},
   "outputs": [],
   "source": [
    "def create_col_lists(all_text, start_index):\n",
    "    '''\n",
    "    Creates a list from the list of all texts starting from a given index\n",
    "    and jumping by 3 indeces\n",
    "    \n",
    "    Inputs:\n",
    "    - all_text: list of strings\n",
    "    - start_index: integer\n",
    "    \n",
    "    Output: list of strings\n",
    "    '''\n",
    "    elem_list = []\n",
    "    for i in list(range(start_index, len(all_text), 3)):\n",
    "        elem = all_text[i]\n",
    "        if '$' in elem:\n",
    "            elem = elem[elem.find('$'):]\n",
    "        elem_list.append(elem)\n",
    "        \n",
    "    return elem_list"
   ]
  },
  {
   "cell_type": "code",
   "execution_count": 7,
   "metadata": {},
   "outputs": [],
   "source": [
    "def create_df(name_list, budget_list, percentage_list, prog=False):\n",
    "    '''\n",
    "    Creates a dataframe from three lists: department/fund/program names, budgets, \n",
    "    and percentages of the total budget.\n",
    "    \n",
    "    Inputs:\n",
    "    - name_list: list of strings\n",
    "    - budget_list: list of strings\n",
    "    - percentage_list: list of strings\n",
    "    \n",
    "    Ouput: a dataframe\n",
    "    '''\n",
    "    dict = {'Department/Fund': name_list, \n",
    "            'Appropriated': budget_list, \n",
    "            '% of Total': percentage_list}  \n",
    "    \n",
    "    if prog == True:\n",
    "        dict = {'Program': name_list, \n",
    "                'Appropriated': budget_list, \n",
    "                '% of Total': percentage_list} \n",
    "\n",
    "    budget_df = pd.DataFrame(dict) \n",
    "    return budget_df"
   ]
  },
  {
   "cell_type": "code",
   "execution_count": 46,
   "metadata": {},
   "outputs": [],
   "source": [
    "def close_driver(driver):\n",
    "    '''\n",
    "    Closes driver\n",
    "    \n",
    "    Input: driver\n",
    "    \n",
    "    Output: none\n",
    "    '''\n",
    "    driver.close()"
   ]
  },
  {
   "cell_type": "markdown",
   "metadata": {},
   "source": [
    "## 2020-21 LA City Proposed Budget - Deparments "
   ]
  },
  {
   "cell_type": "code",
   "execution_count": 46,
   "metadata": {},
   "outputs": [],
   "source": [
    "driver = webdriver.Chrome(executable_path=DRIVER_PATH)\n",
    "driver.get('http://openbudget.lacity.org/#!/year/2021/operating/0/department_name')"
   ]
  },
  {
   "cell_type": "code",
   "execution_count": 47,
   "metadata": {},
   "outputs": [],
   "source": [
    "all_text = get_all_text(driver)"
   ]
  },
  {
   "cell_type": "code",
   "execution_count": 48,
   "metadata": {},
   "outputs": [],
   "source": [
    "# Department/Funds \n",
    "dept_list = create_col_lists(all_text, 0)\n",
    "\n",
    "# Budgets \n",
    "budget_list = create_col_lists(all_text, 1)\n",
    "\n",
    "# Percentages of Total\n",
    "percentage_list = create_col_lists(all_text, 2)"
   ]
  },
  {
   "cell_type": "code",
   "execution_count": 50,
   "metadata": {},
   "outputs": [
    {
     "data": {
      "text/html": [
       "<div>\n",
       "<style scoped>\n",
       "    .dataframe tbody tr th:only-of-type {\n",
       "        vertical-align: middle;\n",
       "    }\n",
       "\n",
       "    .dataframe tbody tr th {\n",
       "        vertical-align: top;\n",
       "    }\n",
       "\n",
       "    .dataframe thead th {\n",
       "        text-align: right;\n",
       "    }\n",
       "</style>\n",
       "<table border=\"1\" class=\"dataframe\">\n",
       "  <thead>\n",
       "    <tr style=\"text-align: right;\">\n",
       "      <th></th>\n",
       "      <th>Department/Fund</th>\n",
       "      <th>Appropriated</th>\n",
       "      <th>% of Total</th>\n",
       "    </tr>\n",
       "  </thead>\n",
       "  <tbody>\n",
       "    <tr>\n",
       "      <th>0</th>\n",
       "      <td>Police</td>\n",
       "      <td>$1,857,330,549</td>\n",
       "      <td>17.64%</td>\n",
       "    </tr>\n",
       "    <tr>\n",
       "      <th>1</th>\n",
       "      <td>Tax and Revenue Anticipation Notes</td>\n",
       "      <td>$1,323,536,029</td>\n",
       "      <td>12.57%</td>\n",
       "    </tr>\n",
       "    <tr>\n",
       "      <th>2</th>\n",
       "      <td>Other Special Purpose Funds</td>\n",
       "      <td>$1,313,794,429</td>\n",
       "      <td>12.48%</td>\n",
       "    </tr>\n",
       "    <tr>\n",
       "      <th>3</th>\n",
       "      <td>Human Resources Benefits</td>\n",
       "      <td>$800,593,969</td>\n",
       "      <td>7.60%</td>\n",
       "    </tr>\n",
       "    <tr>\n",
       "      <th>4</th>\n",
       "      <td>Fire</td>\n",
       "      <td>$732,243,241</td>\n",
       "      <td>6.95%</td>\n",
       "    </tr>\n",
       "  </tbody>\n",
       "</table>\n",
       "</div>"
      ],
      "text/plain": [
       "                      Department/Fund    Appropriated % of Total\n",
       "0                              Police  $1,857,330,549     17.64%\n",
       "1  Tax and Revenue Anticipation Notes  $1,323,536,029     12.57%\n",
       "2         Other Special Purpose Funds  $1,313,794,429     12.48%\n",
       "3            Human Resources Benefits    $800,593,969      7.60%\n",
       "4                                Fire    $732,243,241      6.95%"
      ]
     },
     "execution_count": 50,
     "metadata": {},
     "output_type": "execute_result"
    }
   ],
   "source": [
    "LA_proposed_2020_21 = create_df(dept_list, budget_list, percentage_list)\n",
    "LA_proposed_2020_21.head()"
   ]
  },
  {
   "cell_type": "code",
   "execution_count": null,
   "metadata": {},
   "outputs": [],
   "source": [
    "close_driver(driver)"
   ]
  },
  {
   "cell_type": "markdown",
   "metadata": {},
   "source": [
    "## 2020-21 LA City Proposed Budget - Programs"
   ]
  },
  {
   "cell_type": "code",
   "execution_count": 33,
   "metadata": {},
   "outputs": [],
   "source": [
    "driver2 = webdriver.Chrome(executable_path=DRIVER_PATH)\n",
    "driver2.get('http://openbudget.lacity.org/#!/year/2021/operating/0/program_name')"
   ]
  },
  {
   "cell_type": "code",
   "execution_count": 34,
   "metadata": {
    "scrolled": true
   },
   "outputs": [],
   "source": [
    "all_text2 = get_all_text(driver2)"
   ]
  },
  {
   "cell_type": "code",
   "execution_count": 36,
   "metadata": {},
   "outputs": [],
   "source": [
    "# Programs\n",
    "prog_list = create_col_lists(all_text2, 0)\n",
    "\n",
    "# Budgets \n",
    "budget_list2 = create_col_lists(all_text2, 1)\n",
    "\n",
    "# Percentages of Total\n",
    "percentage_list2 = create_col_lists(all_text2, 2)"
   ]
  },
  {
   "cell_type": "code",
   "execution_count": 51,
   "metadata": {},
   "outputs": [
    {
     "data": {
      "text/html": [
       "<div>\n",
       "<style scoped>\n",
       "    .dataframe tbody tr th:only-of-type {\n",
       "        vertical-align: middle;\n",
       "    }\n",
       "\n",
       "    .dataframe tbody tr th {\n",
       "        vertical-align: top;\n",
       "    }\n",
       "\n",
       "    .dataframe thead th {\n",
       "        text-align: right;\n",
       "    }\n",
       "</style>\n",
       "<table border=\"1\" class=\"dataframe\">\n",
       "  <thead>\n",
       "    <tr style=\"text-align: right;\">\n",
       "      <th></th>\n",
       "      <th>Program</th>\n",
       "      <th>Appropriated</th>\n",
       "      <th>% of Total</th>\n",
       "    </tr>\n",
       "  </thead>\n",
       "  <tbody>\n",
       "    <tr>\n",
       "      <th>0</th>\n",
       "      <td>Tax and Revenue Anticipation Notes Debt Servic...</td>\n",
       "      <td>$1,323,536,029</td>\n",
       "      <td>12.57%</td>\n",
       "    </tr>\n",
       "    <tr>\n",
       "      <th>1</th>\n",
       "      <td>Field Forces</td>\n",
       "      <td>$948,153,028</td>\n",
       "      <td>9.00%</td>\n",
       "    </tr>\n",
       "    <tr>\n",
       "      <th>2</th>\n",
       "      <td>Human Resources Benefits</td>\n",
       "      <td>$800,593,969</td>\n",
       "      <td>7.60%</td>\n",
       "    </tr>\n",
       "    <tr>\n",
       "      <th>3</th>\n",
       "      <td>Wastewater Collection, Treatment, and Disposal</td>\n",
       "      <td>$576,990,112</td>\n",
       "      <td>5.48%</td>\n",
       "    </tr>\n",
       "    <tr>\n",
       "      <th>4</th>\n",
       "      <td>Building and Safety Building Permit Enterprise...</td>\n",
       "      <td>$380,536,770</td>\n",
       "      <td>3.61%</td>\n",
       "    </tr>\n",
       "  </tbody>\n",
       "</table>\n",
       "</div>"
      ],
      "text/plain": [
       "                                             Program    Appropriated  \\\n",
       "0  Tax and Revenue Anticipation Notes Debt Servic...  $1,323,536,029   \n",
       "1                                       Field Forces    $948,153,028   \n",
       "2                           Human Resources Benefits    $800,593,969   \n",
       "3     Wastewater Collection, Treatment, and Disposal    $576,990,112   \n",
       "4  Building and Safety Building Permit Enterprise...    $380,536,770   \n",
       "\n",
       "  % of Total  \n",
       "0     12.57%  \n",
       "1      9.00%  \n",
       "2      7.60%  \n",
       "3      5.48%  \n",
       "4      3.61%  "
      ]
     },
     "execution_count": 51,
     "metadata": {},
     "output_type": "execute_result"
    }
   ],
   "source": [
    "LA_proposed_2020_21_progs = create_df(prog_list, budget_list2, percentage_list2, True)\n",
    "LA_proposed_2020_21_progs.head()"
   ]
  },
  {
   "cell_type": "code",
   "execution_count": null,
   "metadata": {},
   "outputs": [],
   "source": [
    "close_driver(driver2)"
   ]
  },
  {
   "cell_type": "markdown",
   "metadata": {},
   "source": [
    "## 2019-20 LA City Accepted Budget - Departments"
   ]
  },
  {
   "cell_type": "code",
   "execution_count": 52,
   "metadata": {},
   "outputs": [],
   "source": [
    "driver3 = webdriver.Chrome(executable_path=DRIVER_PATH)\n",
    "driver3.get('http://openbudget.lacity.org/#!/year/2020/operating/0/department_name')"
   ]
  },
  {
   "cell_type": "code",
   "execution_count": 53,
   "metadata": {},
   "outputs": [],
   "source": [
    "all_text3 = get_all_text(driver3)"
   ]
  },
  {
   "cell_type": "code",
   "execution_count": 54,
   "metadata": {},
   "outputs": [],
   "source": [
    "# Departments/Funds\n",
    "dept_list2 = create_col_lists(all_text3, 0)\n",
    "\n",
    "# Budgets \n",
    "budget_list3 = create_col_lists(all_text3, 1)\n",
    "\n",
    "# Percentages of Total\n",
    "percentage_list3 = create_col_lists(all_text3, 2)"
   ]
  },
  {
   "cell_type": "code",
   "execution_count": 55,
   "metadata": {},
   "outputs": [
    {
     "data": {
      "text/html": [
       "<div>\n",
       "<style scoped>\n",
       "    .dataframe tbody tr th:only-of-type {\n",
       "        vertical-align: middle;\n",
       "    }\n",
       "\n",
       "    .dataframe tbody tr th {\n",
       "        vertical-align: top;\n",
       "    }\n",
       "\n",
       "    .dataframe thead th {\n",
       "        text-align: right;\n",
       "    }\n",
       "</style>\n",
       "<table border=\"1\" class=\"dataframe\">\n",
       "  <thead>\n",
       "    <tr style=\"text-align: right;\">\n",
       "      <th></th>\n",
       "      <th>Department/Fund</th>\n",
       "      <th>Appropriated</th>\n",
       "      <th>% of Total</th>\n",
       "    </tr>\n",
       "  </thead>\n",
       "  <tbody>\n",
       "    <tr>\n",
       "      <th>0</th>\n",
       "      <td>Police</td>\n",
       "      <td>$1,733,838,124</td>\n",
       "      <td>16.19%</td>\n",
       "    </tr>\n",
       "    <tr>\n",
       "      <th>1</th>\n",
       "      <td>Other Special Purpose Funds</td>\n",
       "      <td>$1,363,287,596</td>\n",
       "      <td>12.73%</td>\n",
       "    </tr>\n",
       "    <tr>\n",
       "      <th>2</th>\n",
       "      <td>Tax and Revenue Anticipation Notes</td>\n",
       "      <td>$1,302,296,587</td>\n",
       "      <td>12.16%</td>\n",
       "    </tr>\n",
       "    <tr>\n",
       "      <th>3</th>\n",
       "      <td>Human Resources Benefits</td>\n",
       "      <td>$743,564,377</td>\n",
       "      <td>6.94%</td>\n",
       "    </tr>\n",
       "    <tr>\n",
       "      <th>4</th>\n",
       "      <td>Fire</td>\n",
       "      <td>$691,009,340</td>\n",
       "      <td>6.45%</td>\n",
       "    </tr>\n",
       "  </tbody>\n",
       "</table>\n",
       "</div>"
      ],
      "text/plain": [
       "                      Department/Fund    Appropriated % of Total\n",
       "0                              Police  $1,733,838,124     16.19%\n",
       "1         Other Special Purpose Funds  $1,363,287,596     12.73%\n",
       "2  Tax and Revenue Anticipation Notes  $1,302,296,587     12.16%\n",
       "3            Human Resources Benefits    $743,564,377      6.94%\n",
       "4                                Fire    $691,009,340      6.45%"
      ]
     },
     "execution_count": 55,
     "metadata": {},
     "output_type": "execute_result"
    }
   ],
   "source": [
    "LA_accep_2019_20 = create_df(dept_list2, budget_list3, percentage_list3)\n",
    "LA_accep_2019_20.head()"
   ]
  },
  {
   "cell_type": "code",
   "execution_count": null,
   "metadata": {},
   "outputs": [],
   "source": [
    "close_driver(driver3)"
   ]
  },
  {
   "cell_type": "markdown",
   "metadata": {},
   "source": [
    "## 2019-20 LA City Accepted Budget - Programs"
   ]
  },
  {
   "cell_type": "code",
   "execution_count": 56,
   "metadata": {},
   "outputs": [],
   "source": [
    "driver4 = webdriver.Chrome(executable_path=DRIVER_PATH)\n",
    "driver4.get('http://openbudget.lacity.org/#!/year/2020/operating/0/program_name')"
   ]
  },
  {
   "cell_type": "code",
   "execution_count": 57,
   "metadata": {},
   "outputs": [],
   "source": [
    "all_text4 = get_all_text(driver4)"
   ]
  },
  {
   "cell_type": "code",
   "execution_count": 58,
   "metadata": {},
   "outputs": [],
   "source": [
    "# Programs\n",
    "prog_list2 = create_col_lists(all_text4, 0)\n",
    "\n",
    "# Budgets \n",
    "budget_list4 = create_col_lists(all_text4, 1)\n",
    "\n",
    "# Percentages of Total\n",
    "percentage_list4 = create_col_lists(all_text4, 2)"
   ]
  },
  {
   "cell_type": "code",
   "execution_count": 59,
   "metadata": {},
   "outputs": [
    {
     "data": {
      "text/html": [
       "<div>\n",
       "<style scoped>\n",
       "    .dataframe tbody tr th:only-of-type {\n",
       "        vertical-align: middle;\n",
       "    }\n",
       "\n",
       "    .dataframe tbody tr th {\n",
       "        vertical-align: top;\n",
       "    }\n",
       "\n",
       "    .dataframe thead th {\n",
       "        text-align: right;\n",
       "    }\n",
       "</style>\n",
       "<table border=\"1\" class=\"dataframe\">\n",
       "  <thead>\n",
       "    <tr style=\"text-align: right;\">\n",
       "      <th></th>\n",
       "      <th>Program</th>\n",
       "      <th>Appropriated</th>\n",
       "      <th>% of Total</th>\n",
       "    </tr>\n",
       "  </thead>\n",
       "  <tbody>\n",
       "    <tr>\n",
       "      <th>0</th>\n",
       "      <td>Tax and Revenue Anticipation Notes Debt Servic...</td>\n",
       "      <td>$1,302,296,587</td>\n",
       "      <td>12.16%</td>\n",
       "    </tr>\n",
       "    <tr>\n",
       "      <th>1</th>\n",
       "      <td>Field Forces</td>\n",
       "      <td>$871,402,544</td>\n",
       "      <td>8.14%</td>\n",
       "    </tr>\n",
       "    <tr>\n",
       "      <th>2</th>\n",
       "      <td>Human Resources Benefits</td>\n",
       "      <td>$743,564,377</td>\n",
       "      <td>6.94%</td>\n",
       "    </tr>\n",
       "    <tr>\n",
       "      <th>3</th>\n",
       "      <td>Wastewater Collection, Treatment, and Disposal</td>\n",
       "      <td>$597,021,942</td>\n",
       "      <td>5.57%</td>\n",
       "    </tr>\n",
       "    <tr>\n",
       "      <th>4</th>\n",
       "      <td>Building and Safety Building Permit Enterprise...</td>\n",
       "      <td>$377,092,942</td>\n",
       "      <td>3.52%</td>\n",
       "    </tr>\n",
       "  </tbody>\n",
       "</table>\n",
       "</div>"
      ],
      "text/plain": [
       "                                             Program    Appropriated  \\\n",
       "0  Tax and Revenue Anticipation Notes Debt Servic...  $1,302,296,587   \n",
       "1                                       Field Forces    $871,402,544   \n",
       "2                           Human Resources Benefits    $743,564,377   \n",
       "3     Wastewater Collection, Treatment, and Disposal    $597,021,942   \n",
       "4  Building and Safety Building Permit Enterprise...    $377,092,942   \n",
       "\n",
       "  % of Total  \n",
       "0     12.16%  \n",
       "1      8.14%  \n",
       "2      6.94%  \n",
       "3      5.57%  \n",
       "4      3.52%  "
      ]
     },
     "execution_count": 59,
     "metadata": {},
     "output_type": "execute_result"
    }
   ],
   "source": [
    "LA_accep_2019_20_progs = create_df(prog_list2, budget_list4, percentage_list4, True)\n",
    "LA_accep_2019_20_progs.head()"
   ]
  },
  {
   "cell_type": "code",
   "execution_count": null,
   "metadata": {},
   "outputs": [],
   "source": [
    "close_driver(driver4)"
   ]
  },
  {
   "cell_type": "markdown",
   "metadata": {},
   "source": [
    "## 2020-21 LAPD Proposed Budget"
   ]
  },
  {
   "cell_type": "code",
   "execution_count": 66,
   "metadata": {},
   "outputs": [],
   "source": [
    "driver5 = webdriver.Chrome(executable_path=DRIVER_PATH)\n",
    "driver5.get('http://openbudget.lacity.org/#!/year/2021/operating/0/department_name/Police/0/program_name')"
   ]
  },
  {
   "cell_type": "code",
   "execution_count": 68,
   "metadata": {},
   "outputs": [],
   "source": [
    "all_text5 = get_all_text(driver5)"
   ]
  },
  {
   "cell_type": "code",
   "execution_count": 69,
   "metadata": {},
   "outputs": [],
   "source": [
    "# Programs\n",
    "prog_list3 = create_col_lists(all_text5, 0)\n",
    "\n",
    "# Budgets \n",
    "budget_list5 = create_col_lists(all_text5, 1)\n",
    "\n",
    "# Percentages of Total\n",
    "percentage_list5 = create_col_lists(all_text5, 2)"
   ]
  },
  {
   "cell_type": "code",
   "execution_count": 70,
   "metadata": {},
   "outputs": [
    {
     "data": {
      "text/html": [
       "<div>\n",
       "<style scoped>\n",
       "    .dataframe tbody tr th:only-of-type {\n",
       "        vertical-align: middle;\n",
       "    }\n",
       "\n",
       "    .dataframe tbody tr th {\n",
       "        vertical-align: top;\n",
       "    }\n",
       "\n",
       "    .dataframe thead th {\n",
       "        text-align: right;\n",
       "    }\n",
       "</style>\n",
       "<table border=\"1\" class=\"dataframe\">\n",
       "  <thead>\n",
       "    <tr style=\"text-align: right;\">\n",
       "      <th></th>\n",
       "      <th>Program</th>\n",
       "      <th>Appropriated</th>\n",
       "      <th>% of Total</th>\n",
       "    </tr>\n",
       "  </thead>\n",
       "  <tbody>\n",
       "    <tr>\n",
       "      <th>0</th>\n",
       "      <td>Field Forces</td>\n",
       "      <td>$948,153,028</td>\n",
       "      <td>51.05%</td>\n",
       "    </tr>\n",
       "    <tr>\n",
       "      <th>1</th>\n",
       "      <td>Specialized Investigation</td>\n",
       "      <td>$194,655,099</td>\n",
       "      <td>10.48%</td>\n",
       "    </tr>\n",
       "    <tr>\n",
       "      <th>2</th>\n",
       "      <td>Specialized Enforcement and Protection</td>\n",
       "      <td>$193,169,157</td>\n",
       "      <td>10.40%</td>\n",
       "    </tr>\n",
       "    <tr>\n",
       "      <th>3</th>\n",
       "      <td>Departmental Support</td>\n",
       "      <td>$124,440,204</td>\n",
       "      <td>6.70%</td>\n",
       "    </tr>\n",
       "    <tr>\n",
       "      <th>4</th>\n",
       "      <td>Personnel Training and Support</td>\n",
       "      <td>$91,353,016</td>\n",
       "      <td>4.92%</td>\n",
       "    </tr>\n",
       "    <tr>\n",
       "      <th>5</th>\n",
       "      <td>Traffic Control</td>\n",
       "      <td>$88,188,675</td>\n",
       "      <td>4.75%</td>\n",
       "    </tr>\n",
       "    <tr>\n",
       "      <th>6</th>\n",
       "      <td>Custody of Persons and Property</td>\n",
       "      <td>$65,604,313</td>\n",
       "      <td>3.53%</td>\n",
       "    </tr>\n",
       "    <tr>\n",
       "      <th>7</th>\n",
       "      <td>Technology Support</td>\n",
       "      <td>$64,427,092</td>\n",
       "      <td>3.47%</td>\n",
       "    </tr>\n",
       "    <tr>\n",
       "      <th>8</th>\n",
       "      <td>Internal Integrity and Standards Enforcement</td>\n",
       "      <td>$60,450,976</td>\n",
       "      <td>3.25%</td>\n",
       "    </tr>\n",
       "    <tr>\n",
       "      <th>9</th>\n",
       "      <td>General Administration and Support</td>\n",
       "      <td>$26,888,989</td>\n",
       "      <td>1.45%</td>\n",
       "    </tr>\n",
       "    <tr>\n",
       "      <th>10</th>\n",
       "      <td>Total</td>\n",
       "      <td>$1,857,330,549</td>\n",
       "      <td>100%</td>\n",
       "    </tr>\n",
       "  </tbody>\n",
       "</table>\n",
       "</div>"
      ],
      "text/plain": [
       "                                         Program    Appropriated % of Total\n",
       "0                                   Field Forces    $948,153,028     51.05%\n",
       "1                      Specialized Investigation    $194,655,099     10.48%\n",
       "2         Specialized Enforcement and Protection    $193,169,157     10.40%\n",
       "3                           Departmental Support    $124,440,204      6.70%\n",
       "4                 Personnel Training and Support     $91,353,016      4.92%\n",
       "5                                Traffic Control     $88,188,675      4.75%\n",
       "6                Custody of Persons and Property     $65,604,313      3.53%\n",
       "7                             Technology Support     $64,427,092      3.47%\n",
       "8   Internal Integrity and Standards Enforcement     $60,450,976      3.25%\n",
       "9             General Administration and Support     $26,888,989      1.45%\n",
       "10                                         Total  $1,857,330,549       100%"
      ]
     },
     "execution_count": 70,
     "metadata": {},
     "output_type": "execute_result"
    }
   ],
   "source": [
    "LAPD_proposed_2020_21_progs = create_df(prog_list3, budget_list5, percentage_list5, True)\n",
    "LAPD_proposed_2020_21_progs"
   ]
  },
  {
   "cell_type": "code",
   "execution_count": null,
   "metadata": {},
   "outputs": [],
   "source": [
    "close_driver(driver5)"
   ]
  },
  {
   "cell_type": "markdown",
   "metadata": {},
   "source": [
    "## 2019-20 LAPD Accepted Budget"
   ]
  },
  {
   "cell_type": "code",
   "execution_count": 61,
   "metadata": {},
   "outputs": [],
   "source": [
    "driver6 = webdriver.Chrome(executable_path=DRIVER_PATH)\n",
    "driver6.get('http://openbudget.lacity.org/#!/year/2020/operating/0/department_name/Police/0/program_name')"
   ]
  },
  {
   "cell_type": "code",
   "execution_count": 62,
   "metadata": {},
   "outputs": [],
   "source": [
    "all_text6 = get_all_text(driver6)"
   ]
  },
  {
   "cell_type": "code",
   "execution_count": 64,
   "metadata": {},
   "outputs": [],
   "source": [
    "# Programs\n",
    "prog_list4 = create_col_lists(all_text6, 0)\n",
    "\n",
    "# Budgets \n",
    "budget_list6 = create_col_lists(all_text6, 1)\n",
    "\n",
    "# Percentages of Total\n",
    "percentage_list6 = create_col_lists(all_text6, 2)"
   ]
  },
  {
   "cell_type": "code",
   "execution_count": 65,
   "metadata": {},
   "outputs": [
    {
     "data": {
      "text/html": [
       "<div>\n",
       "<style scoped>\n",
       "    .dataframe tbody tr th:only-of-type {\n",
       "        vertical-align: middle;\n",
       "    }\n",
       "\n",
       "    .dataframe tbody tr th {\n",
       "        vertical-align: top;\n",
       "    }\n",
       "\n",
       "    .dataframe thead th {\n",
       "        text-align: right;\n",
       "    }\n",
       "</style>\n",
       "<table border=\"1\" class=\"dataframe\">\n",
       "  <thead>\n",
       "    <tr style=\"text-align: right;\">\n",
       "      <th></th>\n",
       "      <th>Program</th>\n",
       "      <th>Appropriated</th>\n",
       "      <th>% of Total</th>\n",
       "    </tr>\n",
       "  </thead>\n",
       "  <tbody>\n",
       "    <tr>\n",
       "      <th>0</th>\n",
       "      <td>Field Forces</td>\n",
       "      <td>$871,402,544</td>\n",
       "      <td>50.26%</td>\n",
       "    </tr>\n",
       "    <tr>\n",
       "      <th>1</th>\n",
       "      <td>Specialized Investigation</td>\n",
       "      <td>$190,135,966</td>\n",
       "      <td>10.97%</td>\n",
       "    </tr>\n",
       "    <tr>\n",
       "      <th>2</th>\n",
       "      <td>Specialized Enforcement and Protection</td>\n",
       "      <td>$158,987,488</td>\n",
       "      <td>9.17%</td>\n",
       "    </tr>\n",
       "    <tr>\n",
       "      <th>3</th>\n",
       "      <td>Departmental Support</td>\n",
       "      <td>$131,813,554</td>\n",
       "      <td>7.60%</td>\n",
       "    </tr>\n",
       "    <tr>\n",
       "      <th>4</th>\n",
       "      <td>Personnel Training and Support</td>\n",
       "      <td>$84,235,064</td>\n",
       "      <td>4.86%</td>\n",
       "    </tr>\n",
       "    <tr>\n",
       "      <th>5</th>\n",
       "      <td>Traffic Control</td>\n",
       "      <td>$80,806,956</td>\n",
       "      <td>4.66%</td>\n",
       "    </tr>\n",
       "    <tr>\n",
       "      <th>6</th>\n",
       "      <td>Custody of Persons and Property</td>\n",
       "      <td>$67,034,924</td>\n",
       "      <td>3.87%</td>\n",
       "    </tr>\n",
       "    <tr>\n",
       "      <th>7</th>\n",
       "      <td>Technology Support</td>\n",
       "      <td>$66,150,304</td>\n",
       "      <td>3.82%</td>\n",
       "    </tr>\n",
       "    <tr>\n",
       "      <th>8</th>\n",
       "      <td>Internal Integrity and Standards Enforcement</td>\n",
       "      <td>$56,909,500</td>\n",
       "      <td>3.28%</td>\n",
       "    </tr>\n",
       "    <tr>\n",
       "      <th>9</th>\n",
       "      <td>General Administration and Support</td>\n",
       "      <td>$26,361,824</td>\n",
       "      <td>1.52%</td>\n",
       "    </tr>\n",
       "    <tr>\n",
       "      <th>10</th>\n",
       "      <td>Total</td>\n",
       "      <td>$1,733,838,124</td>\n",
       "      <td>100%</td>\n",
       "    </tr>\n",
       "  </tbody>\n",
       "</table>\n",
       "</div>"
      ],
      "text/plain": [
       "                                         Program    Appropriated % of Total\n",
       "0                                   Field Forces    $871,402,544     50.26%\n",
       "1                      Specialized Investigation    $190,135,966     10.97%\n",
       "2         Specialized Enforcement and Protection    $158,987,488      9.17%\n",
       "3                           Departmental Support    $131,813,554      7.60%\n",
       "4                 Personnel Training and Support     $84,235,064      4.86%\n",
       "5                                Traffic Control     $80,806,956      4.66%\n",
       "6                Custody of Persons and Property     $67,034,924      3.87%\n",
       "7                             Technology Support     $66,150,304      3.82%\n",
       "8   Internal Integrity and Standards Enforcement     $56,909,500      3.28%\n",
       "9             General Administration and Support     $26,361,824      1.52%\n",
       "10                                         Total  $1,733,838,124       100%"
      ]
     },
     "execution_count": 65,
     "metadata": {},
     "output_type": "execute_result"
    }
   ],
   "source": [
    "LAPD_accep_2019_20_progs = create_df(prog_list4, budget_list6, percentage_list6, True)\n",
    "LAPD_accep_2019_20_progs"
   ]
  },
  {
   "cell_type": "code",
   "execution_count": null,
   "metadata": {},
   "outputs": [],
   "source": [
    "close_driver(driver6)"
   ]
  },
  {
   "cell_type": "markdown",
   "metadata": {},
   "source": [
    "## 2020-21 LADOT Proposed Budget"
   ]
  },
  {
   "cell_type": "code",
   "execution_count": 13,
   "metadata": {},
   "outputs": [],
   "source": [
    "driver7 = webdriver.Chrome(executable_path=DRIVER_PATH)\n",
    "driver7.get('http://openbudget.lacity.org/#!/year/2021/operating/0/department_name/Transportation//program_name')"
   ]
  },
  {
   "cell_type": "code",
   "execution_count": 15,
   "metadata": {},
   "outputs": [],
   "source": [
    "all_text7 = get_all_text(driver7)"
   ]
  },
  {
   "cell_type": "code",
   "execution_count": 16,
   "metadata": {},
   "outputs": [],
   "source": [
    "# Programs\n",
    "prog_list5 = create_col_lists(all_text7, 0)\n",
    "\n",
    "# Budgets \n",
    "budget_list7 = create_col_lists(all_text7, 1)\n",
    "\n",
    "# Percentages of Total\n",
    "percentage_list7 = create_col_lists(all_text7, 2)"
   ]
  },
  {
   "cell_type": "code",
   "execution_count": 17,
   "metadata": {},
   "outputs": [
    {
     "data": {
      "text/html": [
       "<div>\n",
       "<style scoped>\n",
       "    .dataframe tbody tr th:only-of-type {\n",
       "        vertical-align: middle;\n",
       "    }\n",
       "\n",
       "    .dataframe tbody tr th {\n",
       "        vertical-align: top;\n",
       "    }\n",
       "\n",
       "    .dataframe thead th {\n",
       "        text-align: right;\n",
       "    }\n",
       "</style>\n",
       "<table border=\"1\" class=\"dataframe\">\n",
       "  <thead>\n",
       "    <tr style=\"text-align: right;\">\n",
       "      <th></th>\n",
       "      <th>Program</th>\n",
       "      <th>Appropriated</th>\n",
       "      <th>% of Total</th>\n",
       "    </tr>\n",
       "  </thead>\n",
       "  <tbody>\n",
       "    <tr>\n",
       "      <th>0</th>\n",
       "      <td>Parking Enforcement Services</td>\n",
       "      <td>$60,425,872</td>\n",
       "      <td>33.50%</td>\n",
       "    </tr>\n",
       "    <tr>\n",
       "      <th>1</th>\n",
       "      <td>Traffic Signals and Systems</td>\n",
       "      <td>$24,085,724</td>\n",
       "      <td>13.35%</td>\n",
       "    </tr>\n",
       "    <tr>\n",
       "      <th>2</th>\n",
       "      <td>Streets and Sign Management</td>\n",
       "      <td>$22,499,194</td>\n",
       "      <td>12.47%</td>\n",
       "    </tr>\n",
       "    <tr>\n",
       "      <th>3</th>\n",
       "      <td>Parking Citation Processing Services</td>\n",
       "      <td>$14,053,740</td>\n",
       "      <td>7.79%</td>\n",
       "    </tr>\n",
       "    <tr>\n",
       "      <th>4</th>\n",
       "      <td>Crossing Guard Services</td>\n",
       "      <td>$7,894,421</td>\n",
       "      <td>4.38%</td>\n",
       "    </tr>\n",
       "    <tr>\n",
       "      <th>5</th>\n",
       "      <td>General Administration and Support</td>\n",
       "      <td>$6,694,046</td>\n",
       "      <td>3.71%</td>\n",
       "    </tr>\n",
       "    <tr>\n",
       "      <th>6</th>\n",
       "      <td>Parking Facilities, Meters, and Operations</td>\n",
       "      <td>$6,655,674</td>\n",
       "      <td>3.69%</td>\n",
       "    </tr>\n",
       "    <tr>\n",
       "      <th>7</th>\n",
       "      <td>District Offices</td>\n",
       "      <td>$6,139,932</td>\n",
       "      <td>3.40%</td>\n",
       "    </tr>\n",
       "    <tr>\n",
       "      <th>8</th>\n",
       "      <td>Active Transportation</td>\n",
       "      <td>$4,913,707</td>\n",
       "      <td>2.72%</td>\n",
       "    </tr>\n",
       "    <tr>\n",
       "      <th>9</th>\n",
       "      <td>Major Project Coordination</td>\n",
       "      <td>$4,889,247</td>\n",
       "      <td>2.71%</td>\n",
       "    </tr>\n",
       "    <tr>\n",
       "      <th>10</th>\n",
       "      <td>Public Transit Services</td>\n",
       "      <td>$4,853,920</td>\n",
       "      <td>2.69%</td>\n",
       "    </tr>\n",
       "    <tr>\n",
       "      <th>11</th>\n",
       "      <td>Transportation Infrastructure and Project Deli...</td>\n",
       "      <td>$4,459,360</td>\n",
       "      <td>2.47%</td>\n",
       "    </tr>\n",
       "    <tr>\n",
       "      <th>12</th>\n",
       "      <td>Sustainable Transportation</td>\n",
       "      <td>$3,926,444</td>\n",
       "      <td>2.18%</td>\n",
       "    </tr>\n",
       "    <tr>\n",
       "      <th>13</th>\n",
       "      <td>Transportation Planning and Land Use</td>\n",
       "      <td>$3,920,027</td>\n",
       "      <td>2.17%</td>\n",
       "    </tr>\n",
       "    <tr>\n",
       "      <th>14</th>\n",
       "      <td>Emergency Management and Special Events</td>\n",
       "      <td>$2,776,152</td>\n",
       "      <td>1.54%</td>\n",
       "    </tr>\n",
       "    <tr>\n",
       "      <th>15</th>\n",
       "      <td>Technology Support</td>\n",
       "      <td>$2,185,590</td>\n",
       "      <td>1.21%</td>\n",
       "    </tr>\n",
       "    <tr>\n",
       "      <th>16</th>\n",
       "      <td>Total</td>\n",
       "      <td>$180,373,050</td>\n",
       "      <td>100%</td>\n",
       "    </tr>\n",
       "  </tbody>\n",
       "</table>\n",
       "</div>"
      ],
      "text/plain": [
       "                                              Program  Appropriated % of Total\n",
       "0                        Parking Enforcement Services   $60,425,872     33.50%\n",
       "1                         Traffic Signals and Systems   $24,085,724     13.35%\n",
       "2                         Streets and Sign Management   $22,499,194     12.47%\n",
       "3                Parking Citation Processing Services   $14,053,740      7.79%\n",
       "4                             Crossing Guard Services    $7,894,421      4.38%\n",
       "5                  General Administration and Support    $6,694,046      3.71%\n",
       "6          Parking Facilities, Meters, and Operations    $6,655,674      3.69%\n",
       "7                                    District Offices    $6,139,932      3.40%\n",
       "8                               Active Transportation    $4,913,707      2.72%\n",
       "9                          Major Project Coordination    $4,889,247      2.71%\n",
       "10                            Public Transit Services    $4,853,920      2.69%\n",
       "11  Transportation Infrastructure and Project Deli...    $4,459,360      2.47%\n",
       "12                         Sustainable Transportation    $3,926,444      2.18%\n",
       "13               Transportation Planning and Land Use    $3,920,027      2.17%\n",
       "14            Emergency Management and Special Events    $2,776,152      1.54%\n",
       "15                                 Technology Support    $2,185,590      1.21%\n",
       "16                                              Total  $180,373,050       100%"
      ]
     },
     "execution_count": 17,
     "metadata": {},
     "output_type": "execute_result"
    }
   ],
   "source": [
    "LADOT_proposed_2020_21_progs = create_df(prog_list5, budget_list7, percentage_list7, True)\n",
    "LADOT_proposed_2020_21_progs"
   ]
  },
  {
   "cell_type": "code",
   "execution_count": null,
   "metadata": {},
   "outputs": [],
   "source": [
    "close_driver(driver7)"
   ]
  },
  {
   "cell_type": "markdown",
   "metadata": {},
   "source": [
    "## 2019-20 LADOT Accepted Budget"
   ]
  },
  {
   "cell_type": "code",
   "execution_count": 71,
   "metadata": {},
   "outputs": [],
   "source": [
    "driver8 = webdriver.Chrome(executable_path=DRIVER_PATH)\n",
    "driver8.get('http://openbudget.lacity.org/#!/year/2020/operating/0/department_name/Transportation//program_name')\n"
   ]
  },
  {
   "cell_type": "code",
   "execution_count": 72,
   "metadata": {},
   "outputs": [],
   "source": [
    "all_text8 = get_all_text(driver8)"
   ]
  },
  {
   "cell_type": "code",
   "execution_count": 73,
   "metadata": {},
   "outputs": [],
   "source": [
    "# Programs\n",
    "prog_list6 = create_col_lists(all_text8, 0)\n",
    "\n",
    "# Budgets \n",
    "budget_list8 = create_col_lists(all_text8, 1)\n",
    "\n",
    "# Percentages of Total\n",
    "percentage_list8 = create_col_lists(all_text8, 2)"
   ]
  },
  {
   "cell_type": "code",
   "execution_count": 74,
   "metadata": {},
   "outputs": [
    {
     "data": {
      "text/html": [
       "<div>\n",
       "<style scoped>\n",
       "    .dataframe tbody tr th:only-of-type {\n",
       "        vertical-align: middle;\n",
       "    }\n",
       "\n",
       "    .dataframe tbody tr th {\n",
       "        vertical-align: top;\n",
       "    }\n",
       "\n",
       "    .dataframe thead th {\n",
       "        text-align: right;\n",
       "    }\n",
       "</style>\n",
       "<table border=\"1\" class=\"dataframe\">\n",
       "  <thead>\n",
       "    <tr style=\"text-align: right;\">\n",
       "      <th></th>\n",
       "      <th>Program</th>\n",
       "      <th>Appropriated</th>\n",
       "      <th>% of Total</th>\n",
       "    </tr>\n",
       "  </thead>\n",
       "  <tbody>\n",
       "    <tr>\n",
       "      <th>0</th>\n",
       "      <td>Parking Enforcement Services</td>\n",
       "      <td>$60,022,647</td>\n",
       "      <td>32.10%</td>\n",
       "    </tr>\n",
       "    <tr>\n",
       "      <th>1</th>\n",
       "      <td>Traffic Signals and Systems</td>\n",
       "      <td>$27,010,867</td>\n",
       "      <td>14.45%</td>\n",
       "    </tr>\n",
       "    <tr>\n",
       "      <th>2</th>\n",
       "      <td>Streets and Sign Management</td>\n",
       "      <td>$23,469,210</td>\n",
       "      <td>12.55%</td>\n",
       "    </tr>\n",
       "    <tr>\n",
       "      <th>3</th>\n",
       "      <td>Parking Citation Processing Services</td>\n",
       "      <td>$14,377,821</td>\n",
       "      <td>7.69%</td>\n",
       "    </tr>\n",
       "    <tr>\n",
       "      <th>4</th>\n",
       "      <td>Crossing Guard Services</td>\n",
       "      <td>$7,620,727</td>\n",
       "      <td>4.08%</td>\n",
       "    </tr>\n",
       "    <tr>\n",
       "      <th>5</th>\n",
       "      <td>Parking Facilities, Meters, and Operations</td>\n",
       "      <td>$7,426,127</td>\n",
       "      <td>3.97%</td>\n",
       "    </tr>\n",
       "    <tr>\n",
       "      <th>6</th>\n",
       "      <td>General Administration and Support</td>\n",
       "      <td>$7,374,419</td>\n",
       "      <td>3.94%</td>\n",
       "    </tr>\n",
       "    <tr>\n",
       "      <th>7</th>\n",
       "      <td>Active Transportation</td>\n",
       "      <td>$5,500,179</td>\n",
       "      <td>2.94%</td>\n",
       "    </tr>\n",
       "    <tr>\n",
       "      <th>8</th>\n",
       "      <td>Public Transit Services</td>\n",
       "      <td>$5,357,192</td>\n",
       "      <td>2.87%</td>\n",
       "    </tr>\n",
       "    <tr>\n",
       "      <th>9</th>\n",
       "      <td>District Offices</td>\n",
       "      <td>$5,346,128</td>\n",
       "      <td>2.86%</td>\n",
       "    </tr>\n",
       "    <tr>\n",
       "      <th>10</th>\n",
       "      <td>Major Project Coordination</td>\n",
       "      <td>$5,179,735</td>\n",
       "      <td>2.77%</td>\n",
       "    </tr>\n",
       "    <tr>\n",
       "      <th>11</th>\n",
       "      <td>Transportation Infrastructure and Project Deli...</td>\n",
       "      <td>$4,760,095</td>\n",
       "      <td>2.55%</td>\n",
       "    </tr>\n",
       "    <tr>\n",
       "      <th>12</th>\n",
       "      <td>Transportation Planning and Land Use</td>\n",
       "      <td>$4,321,844</td>\n",
       "      <td>2.31%</td>\n",
       "    </tr>\n",
       "    <tr>\n",
       "      <th>13</th>\n",
       "      <td>Sustainable Transportation</td>\n",
       "      <td>$3,766,853</td>\n",
       "      <td>2.01%</td>\n",
       "    </tr>\n",
       "    <tr>\n",
       "      <th>14</th>\n",
       "      <td>Emergency Management and Special Events</td>\n",
       "      <td>$2,893,488</td>\n",
       "      <td>1.55%</td>\n",
       "    </tr>\n",
       "    <tr>\n",
       "      <th>15</th>\n",
       "      <td>Technology Support</td>\n",
       "      <td>$2,537,544</td>\n",
       "      <td>1.36%</td>\n",
       "    </tr>\n",
       "    <tr>\n",
       "      <th>16</th>\n",
       "      <td>Total</td>\n",
       "      <td>$186,964,876</td>\n",
       "      <td>100%</td>\n",
       "    </tr>\n",
       "  </tbody>\n",
       "</table>\n",
       "</div>"
      ],
      "text/plain": [
       "                                              Program  Appropriated % of Total\n",
       "0                        Parking Enforcement Services   $60,022,647     32.10%\n",
       "1                         Traffic Signals and Systems   $27,010,867     14.45%\n",
       "2                         Streets and Sign Management   $23,469,210     12.55%\n",
       "3                Parking Citation Processing Services   $14,377,821      7.69%\n",
       "4                             Crossing Guard Services    $7,620,727      4.08%\n",
       "5          Parking Facilities, Meters, and Operations    $7,426,127      3.97%\n",
       "6                  General Administration and Support    $7,374,419      3.94%\n",
       "7                               Active Transportation    $5,500,179      2.94%\n",
       "8                             Public Transit Services    $5,357,192      2.87%\n",
       "9                                    District Offices    $5,346,128      2.86%\n",
       "10                         Major Project Coordination    $5,179,735      2.77%\n",
       "11  Transportation Infrastructure and Project Deli...    $4,760,095      2.55%\n",
       "12               Transportation Planning and Land Use    $4,321,844      2.31%\n",
       "13                         Sustainable Transportation    $3,766,853      2.01%\n",
       "14            Emergency Management and Special Events    $2,893,488      1.55%\n",
       "15                                 Technology Support    $2,537,544      1.36%\n",
       "16                                              Total  $186,964,876       100%"
      ]
     },
     "execution_count": 74,
     "metadata": {},
     "output_type": "execute_result"
    }
   ],
   "source": [
    "LADOT_accep_2019_20_progs = create_df(prog_list6, budget_list8, percentage_list8, True)\n",
    "LADOT_accep_2019_20_progs"
   ]
  },
  {
   "cell_type": "code",
   "execution_count": 75,
   "metadata": {},
   "outputs": [],
   "source": [
    "close_driver(driver8)"
   ]
  },
  {
   "cell_type": "markdown",
   "metadata": {},
   "source": [
    "# Notes & Questions \n",
    "### 1) Don't need separate drivers for each table but is it better practice?\n",
    "### 2) Extract graphs or create them myself from the extracted dataframes?"
   ]
  }
 ],
 "metadata": {
  "kernelspec": {
   "display_name": "Python 3",
   "language": "python",
   "name": "python3"
  },
  "language_info": {
   "codemirror_mode": {
    "name": "ipython",
    "version": 3
   },
   "file_extension": ".py",
   "mimetype": "text/x-python",
   "name": "python",
   "nbconvert_exporter": "python",
   "pygments_lexer": "ipython3",
   "version": "3.7.3"
  }
 },
 "nbformat": 4,
 "nbformat_minor": 2
}
