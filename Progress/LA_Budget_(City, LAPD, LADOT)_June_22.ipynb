{
 "cells": [
  {
   "cell_type": "markdown",
   "metadata": {},
   "source": [
    "# Dynamic web scraping script from OpenBudget website"
   ]
  },
  {
   "cell_type": "markdown",
   "metadata": {},
   "source": [
    "# Functions"
   ]
  },
  {
   "cell_type": "code",
   "execution_count": 171,
   "metadata": {},
   "outputs": [],
   "source": [
    "import pandas as pd\n",
    "import re\n",
    "from selenium import webdriver\n",
    "from selenium.webdriver.common.keys import Keys \n",
    "from selenium.webdriver.common.action_chains import ActionChains\n",
    "\n",
    "DRIVER_PATH = '/Users/lilycao/Downloads/chromedriver'"
   ]
  },
  {
   "cell_type": "code",
   "execution_count": 326,
   "metadata": {},
   "outputs": [],
   "source": [
    "def get_url(year, name_type, agency=None):\n",
    "    '''\n",
    "    Creates url based on year, choice of department or program breakdown, and choice of agency breakdown.\n",
    "    \n",
    "    Inputs:\n",
    "    year: integer\n",
    "    name_type: string ('department','program')\n",
    "        - Choose 'department' for LA city breakdown by department & department breakdown by program (i.e. Police)\n",
    "        - Choose 'program' for LA city breakdown by program\n",
    "    agency: string (choose from dept_list)\n",
    "    \n",
    "    Output: string\n",
    "    '''\n",
    "    url = 'http://openbudget.lacity.org/#!/year/' + str(year) + '/operating/0/' + name_type +'_name'\n",
    "    \n",
    "    if agency:\n",
    "        url += '/' + agency + '/0/program_name'\n",
    "        \n",
    "    return url"
   ]
  },
  {
   "cell_type": "code",
   "execution_count": 13,
   "metadata": {},
   "outputs": [],
   "source": [
    "def choose_vis(url, vis_type):\n",
    "    '''\n",
    "    Creates url of webpage with the visualization of choice displayed \n",
    "    \n",
    "    Inputs: \n",
    "    url: string\n",
    "    vis_type: string\n",
    "        options: \n",
    "            - none: horizontal bar chart\n",
    "            - 'pieChart': pie chart\n",
    "            - 'lineChart': line chart of budgets over time\n",
    "    \n",
    "    Output: string\n",
    "    '''\n",
    "    url += '?vis=' + vis_type\n",
    "    return url"
   ]
  },
  {
   "cell_type": "code",
   "execution_count": 14,
   "metadata": {
    "scrolled": false
   },
   "outputs": [],
   "source": [
    "def get_all_text(driver):\n",
    "    '''\n",
    "    Finds td tags and extracts texts from those with text length's greater than 0\n",
    "    \n",
    "    Input: driver\n",
    "    Output: list of strings\n",
    "    '''\n",
    "    all_text = []\n",
    "    for i in driver.find_elements_by_tag_name('td'):\n",
    "        if len(i.text) > 0:\n",
    "            all_text.append(i.text)\n",
    "\n",
    "    all_text += ['100%']\n",
    "    \n",
    "    return all_text"
   ]
  },
  {
   "cell_type": "code",
   "execution_count": 15,
   "metadata": {},
   "outputs": [],
   "source": [
    "def create_col_lists(all_text, start_index):\n",
    "    '''\n",
    "    Creates a list from the list of all texts starting from a given index\n",
    "    and jumping by 3 indeces\n",
    "    \n",
    "    Inputs:\n",
    "    all_text: list of strings\n",
    "    start_index: integer\n",
    "    \n",
    "    Output: list of strings\n",
    "    '''\n",
    "    elem_list = []\n",
    "    for i in list(range(start_index, len(all_text), 3)):\n",
    "        elem = all_text[i]\n",
    "        if '$' in elem:\n",
    "            elem = elem[elem.find('$'):]\n",
    "        elem_list.append(elem)\n",
    "        \n",
    "    return elem_list"
   ]
  },
  {
   "cell_type": "code",
   "execution_count": 520,
   "metadata": {},
   "outputs": [],
   "source": [
    "def create_df(name_list, budget_list, percentage_list, name_type):\n",
    "    '''\n",
    "    Creates a dataframe from three lists: department/fund/program names, budgets, \n",
    "    and percentages of the total budget.\n",
    "    \n",
    "    Inputs:\n",
    "    name_list: list of strings\n",
    "    budget_list: list of strings\n",
    "    percentage_list: list of strings\n",
    "    name_type: string\n",
    "    \n",
    "    Ouput: a dataframe\n",
    "    '''\n",
    "    dict = {str(name_type): name_list,\n",
    "           'Appropriated': budget_list,\n",
    "           '% of Total': percentage_list}\n",
    "\n",
    "    budget_df = pd.DataFrame(dict) \n",
    "    \n",
    "    return budget_df"
   ]
  },
  {
   "cell_type": "code",
   "execution_count": 247,
   "metadata": {},
   "outputs": [],
   "source": [
    "def close_driver(driver):\n",
    "    '''\n",
    "    Closes driver\n",
    "    \n",
    "    Input: driver\n",
    "    \n",
    "    Output: none\n",
    "    '''\n",
    "    driver.close()"
   ]
  },
  {
   "cell_type": "code",
   "execution_count": 259,
   "metadata": {},
   "outputs": [],
   "source": [
    "def convert_to_float(df, column_name):\n",
    "    '''\n",
    "    Convert column values from string to float\n",
    "    \n",
    "    Inputs:\n",
    "    df: dataframe\n",
    "    column_name: string \n",
    "    \n",
    "    Output: none \n",
    "    '''\n",
    "    new_values = []\n",
    "    for value in df[column_name]:\n",
    "        value = re.sub(r'[$,%]', '', str(value))\n",
    "        new_values.append(float(value))\n",
    "    df[column_name] = new_values"
   ]
  },
  {
   "cell_type": "code",
   "execution_count": 260,
   "metadata": {},
   "outputs": [],
   "source": [
    "def find_col_diffs(df, col_1_name, col_2_name):\n",
    "    '''\n",
    "    Calculate differences between two columns\n",
    "    \n",
    "    Inputs:\n",
    "    df: dataframe\n",
    "    col_1_name: string (col of original budget)\n",
    "    col_2_name: string (col of new budget)\n",
    "    \n",
    "    Output: list of percentage change\n",
    "    '''\n",
    "    diff = df[col_2_name] - df[col_1_name]\n",
    "    percent_diff = (diff/df[col_1_name]) * 100\n",
    "    return percent_diff"
   ]
  },
  {
   "cell_type": "code",
   "execution_count": 521,
   "metadata": {},
   "outputs": [],
   "source": [
    "def get_tech_urls(year):\n",
    "    '''\n",
    "    Technology Support is a program within LA city's budget and on Open Budget, it is\n",
    "    split into different priority outcomes. For example, in 2020, the two categories were\n",
    "    'A Livable and Sustainable City' and 'Not Categorized.' This functions returns urls for\n",
    "    each of these categories.\n",
    "    \n",
    "    Input: year (integer)\n",
    "    \n",
    "    Output: dictionary mapping priority outcome under tech support to correct url\n",
    "    '''\n",
    "    tech = get_url(year, 'program') + '/Technology+Support/0/program_priority'\n",
    "    driver_tech = webdriver.Chrome(executable_path=DRIVER_PATH)\n",
    "    driver_tech.get(tech)\n",
    "    \n",
    "    all_tech = get_all_text(driver_tech)\n",
    "    tech_outcomes = create_col_lists(all_tech, 0)\n",
    "    tech_budgets = create_col_lists(all_tech, 1)\n",
    "    tech_percents= create_col_lists(all_tech, 2)\n",
    "    \n",
    "    LA_tech = create_df(tech_outcomes, tech_budgets, tech_percents, 'Outcome')\n",
    "    close_driver(driver_tech)\n",
    "    \n",
    "    dict = {}\n",
    "    for j in LA_tech[:-1]['Outcome']:\n",
    "        url = get_url(year, 'program') + '/Technology+Support/0/program_priority/'\n",
    "\n",
    "        if 'Not Categorized' in j:\n",
    "            url += 'Not+Categorized/0/department_name'\n",
    "            if year == 2020:\n",
    "                url += '/Building+and+Safety/0/source_fund_name'\n",
    "\n",
    "        elif 'N/A' in j:\n",
    "            url += '/0/department_name'\n",
    "\n",
    "        else:\n",
    "            url_j = j.replace(' ', '+')\n",
    "            url += url_j + '/0/department_name'\n",
    "        \n",
    "        for i in range(len(LA_tech) - 1):\n",
    "            dict[j] = url\n",
    "                    \n",
    "    return dict"
   ]
  },
  {
   "cell_type": "code",
   "execution_count": 615,
   "metadata": {},
   "outputs": [],
   "source": [
    "def create_tech_dfs(year):\n",
    "    '''\n",
    "    Create dataframes for technology support budgets\n",
    "    \n",
    "    Input: year(integer)\n",
    "    \n",
    "    Output: list of dataframes \n",
    "    '''\n",
    "    tech_urls = get_tech_urls(year)\n",
    "    tech_dfs = []\n",
    "    for outcome, url in tech_urls.items():\n",
    "        driver_tech = webdriver.Chrome(executable_path=DRIVER_PATH)\n",
    "        driver_tech.get(url)\n",
    "\n",
    "        all_tech = get_all_text(driver_tech)\n",
    "\n",
    "        tech_cat = create_col_lists(all_tech, 0)\n",
    "        tech_budgets = create_col_lists(all_tech, 1)\n",
    "        tech_percents = create_col_lists(all_tech, 2)\n",
    "\n",
    "        LA_tech = create_df(tech_cat, tech_budgets, tech_percents, 'Department/Fund/Expense')\n",
    "        close_driver(driver_tech)\n",
    "\n",
    "        tech_dfs.append(LA_tech)\n",
    "    \n",
    "    return tech_dfs"
   ]
  },
  {
   "cell_type": "code",
   "execution_count": 539,
   "metadata": {},
   "outputs": [],
   "source": [
    "def merge_20_21(budget_20, budget_21, name_type):\n",
    "    '''\n",
    "    Takes two dataframes from different FY periods, merges them, and creates % change column\n",
    "    \n",
    "    Inputs:\n",
    "    budget_20: dataframe of budget from FY2019-20\n",
    "    budget_21: dataframe of budget from FY2020-21\n",
    "    name_type: string ('Department/Fund', 'Program')\n",
    "    \n",
    "    Output: merged dataframe \n",
    "    '''\n",
    "    merged = budget_20.merge(budget_21, on=name_type, how='right')\n",
    "    merged = merged.fillna(0)\n",
    "    merged.columns = [name_type, 'FY20 Appropriated', 'FY20 % of Total','FY21 Appropriated', 'FY21 % of Total']\n",
    "    \n",
    "    for col in merged.columns[1:]:\n",
    "        convert_to_float(merged, col)\n",
    "    \n",
    "    merged['FY20, FY21 % Change'] = find_col_diffs(merged, 'FY20 Appropriated', 'FY21 Appropriated')\n",
    "    return merged"
   ]
  },
  {
   "cell_type": "code",
   "execution_count": 610,
   "metadata": {},
   "outputs": [],
   "source": [
    "def merged_bar_plot(merged_df):\n",
    "    '''\n",
    "    Creates a vertical bar plot for a merged dataframe of FY20 and FY21 budgets\n",
    "    \n",
    "    Input: merged_df (dataframe of FY20 and FY21 merged dfs)\n",
    "    Output: bar plot where departments/funds/programs are the x-axis and appropriations are the y-axis\n",
    "    '''\n",
    "    name_type = merged_df.columns[0]\n",
    "    approp = merged_df[[name_type, 'FY20 Appropriated','FY21 Appropriated']]\n",
    "    return approp.plot.bar(x=name_type, figsize=(20,10))"
   ]
  },
  {
   "cell_type": "markdown",
   "metadata": {},
   "source": [
    "# Example Applications\n",
    "\n",
    "## LA City\n",
    "1) 2020-21 LA City Proposed Budget - Deparments: **LA_proposed_2020_21**  \n",
    "2) 2020-21 LA City Proposed Budget - Programs: **LA_proposed_2020_21_progs**   \n",
    "3) 2019-20 LA City Accepted Budget - Deparments: **LA_accep_2019_20**    \n",
    "4) 2019-20 LA City Accepted Budget - Programs: **LA_accep_2019_20_progs**    \n",
    "5) Combination LA City Departments: **LA_dept_merged**  + bar plot  \n",
    "6) Combination LA City Programs: **LA_progs_merged**   \n",
    "\n",
    "----\n",
    "## LAPD\n",
    "7) 2020-21 LAPD Proposed Budget: **LAPD_proposed_2020_21_progs**    \n",
    "8) 2019-20 LAPD Accepted Budget: **LAPD_accep_2019_20_progs**  \n",
    "9) Combination: **LAPD_merged** + bar plot\n",
    "\n",
    "----\n",
    "## LADOT\n",
    "10) 2020-21 LADOT Proposed Budget: **LADOT_proposed_2020_21_progs**      \n",
    "11) 2019-20 LADOT Accepted Budget: **LADOT_accep_2019_20_progs**  \n",
    "12) Combination: **LADOT_merged** + bar plot\n",
    "\n",
    "----\n",
    "## Technology Support\n",
    "13) 2020 - 21 Technology Support (Program): **tech_21**    \n",
    "14) 2019 - 20 Technology Support (Program): **tech_20**     \n",
    "15) Combination: **tech_merged** + bar plot"
   ]
  },
  {
   "cell_type": "markdown",
   "metadata": {},
   "source": [
    "## 2020-21 LA City Proposed Budget - Departments "
   ]
  },
  {
   "cell_type": "code",
   "execution_count": 308,
   "metadata": {},
   "outputs": [],
   "source": [
    "driver = webdriver.Chrome(executable_path=DRIVER_PATH)\n",
    "driver.get(get_url(2021, 'department'))"
   ]
  },
  {
   "cell_type": "code",
   "execution_count": 309,
   "metadata": {},
   "outputs": [],
   "source": [
    "all_text = get_all_text(driver)"
   ]
  },
  {
   "cell_type": "code",
   "execution_count": 310,
   "metadata": {},
   "outputs": [],
   "source": [
    "# Department/Funds \n",
    "dept_list = create_col_lists(all_text, 0)\n",
    "\n",
    "# Budgets \n",
    "budget_list = create_col_lists(all_text, 1)\n",
    "\n",
    "# Percentages of Total\n",
    "percentage_list = create_col_lists(all_text, 2)"
   ]
  },
  {
   "cell_type": "code",
   "execution_count": 510,
   "metadata": {},
   "outputs": [
    {
     "data": {
      "text/html": [
       "<div>\n",
       "<style scoped>\n",
       "    .dataframe tbody tr th:only-of-type {\n",
       "        vertical-align: middle;\n",
       "    }\n",
       "\n",
       "    .dataframe tbody tr th {\n",
       "        vertical-align: top;\n",
       "    }\n",
       "\n",
       "    .dataframe thead th {\n",
       "        text-align: right;\n",
       "    }\n",
       "</style>\n",
       "<table border=\"1\" class=\"dataframe\">\n",
       "  <thead>\n",
       "    <tr style=\"text-align: right;\">\n",
       "      <th></th>\n",
       "      <th>Department/Fund</th>\n",
       "      <th>Appropriated</th>\n",
       "      <th>% of Total</th>\n",
       "    </tr>\n",
       "  </thead>\n",
       "  <tbody>\n",
       "    <tr>\n",
       "      <th>0</th>\n",
       "      <td>Police</td>\n",
       "      <td>$1,857,330,549</td>\n",
       "      <td>17.64%</td>\n",
       "    </tr>\n",
       "    <tr>\n",
       "      <th>1</th>\n",
       "      <td>Tax and Revenue Anticipation Notes</td>\n",
       "      <td>$1,323,536,029</td>\n",
       "      <td>12.57%</td>\n",
       "    </tr>\n",
       "    <tr>\n",
       "      <th>2</th>\n",
       "      <td>Other Special Purpose Funds</td>\n",
       "      <td>$1,313,794,429</td>\n",
       "      <td>12.48%</td>\n",
       "    </tr>\n",
       "    <tr>\n",
       "      <th>3</th>\n",
       "      <td>Human Resources Benefits</td>\n",
       "      <td>$800,593,969</td>\n",
       "      <td>7.60%</td>\n",
       "    </tr>\n",
       "    <tr>\n",
       "      <th>4</th>\n",
       "      <td>Fire</td>\n",
       "      <td>$732,243,241</td>\n",
       "      <td>6.95%</td>\n",
       "    </tr>\n",
       "  </tbody>\n",
       "</table>\n",
       "</div>"
      ],
      "text/plain": [
       "                      Department/Fund    Appropriated % of Total\n",
       "0                              Police  $1,857,330,549     17.64%\n",
       "1  Tax and Revenue Anticipation Notes  $1,323,536,029     12.57%\n",
       "2         Other Special Purpose Funds  $1,313,794,429     12.48%\n",
       "3            Human Resources Benefits    $800,593,969      7.60%\n",
       "4                                Fire    $732,243,241      6.95%"
      ]
     },
     "execution_count": 510,
     "metadata": {},
     "output_type": "execute_result"
    }
   ],
   "source": [
    "LA_proposed_2020_21 = create_df(dept_list, budget_list, percentage_list, 'Department/Fund')\n",
    "LA_proposed_2020_21.head()"
   ]
  },
  {
   "cell_type": "code",
   "execution_count": 312,
   "metadata": {},
   "outputs": [],
   "source": [
    "close_driver(driver)"
   ]
  },
  {
   "cell_type": "markdown",
   "metadata": {},
   "source": [
    "## 2020-21 LA City Proposed Budget - Programs"
   ]
  },
  {
   "cell_type": "code",
   "execution_count": 208,
   "metadata": {},
   "outputs": [],
   "source": [
    "driver2 = webdriver.Chrome(executable_path=DRIVER_PATH)\n",
    "driver2.get(get_url(2021, 'program'))"
   ]
  },
  {
   "cell_type": "code",
   "execution_count": 209,
   "metadata": {
    "scrolled": true
   },
   "outputs": [],
   "source": [
    "all_text2 = get_all_text(driver2)"
   ]
  },
  {
   "cell_type": "code",
   "execution_count": 210,
   "metadata": {},
   "outputs": [],
   "source": [
    "# Programs\n",
    "prog_list = create_col_lists(all_text2, 0)\n",
    "\n",
    "# Budgets \n",
    "budget_list2 = create_col_lists(all_text2, 1)\n",
    "\n",
    "# Percentages of Total\n",
    "percentage_list2 = create_col_lists(all_text2, 2)"
   ]
  },
  {
   "cell_type": "code",
   "execution_count": 511,
   "metadata": {},
   "outputs": [
    {
     "data": {
      "text/html": [
       "<div>\n",
       "<style scoped>\n",
       "    .dataframe tbody tr th:only-of-type {\n",
       "        vertical-align: middle;\n",
       "    }\n",
       "\n",
       "    .dataframe tbody tr th {\n",
       "        vertical-align: top;\n",
       "    }\n",
       "\n",
       "    .dataframe thead th {\n",
       "        text-align: right;\n",
       "    }\n",
       "</style>\n",
       "<table border=\"1\" class=\"dataframe\">\n",
       "  <thead>\n",
       "    <tr style=\"text-align: right;\">\n",
       "      <th></th>\n",
       "      <th>Program</th>\n",
       "      <th>Appropriated</th>\n",
       "      <th>% of Total</th>\n",
       "    </tr>\n",
       "  </thead>\n",
       "  <tbody>\n",
       "    <tr>\n",
       "      <th>0</th>\n",
       "      <td>Tax and Revenue Anticipation Notes Debt Servic...</td>\n",
       "      <td>$1,323,536,029</td>\n",
       "      <td>12.57%</td>\n",
       "    </tr>\n",
       "    <tr>\n",
       "      <th>1</th>\n",
       "      <td>Field Forces</td>\n",
       "      <td>$948,153,028</td>\n",
       "      <td>9.00%</td>\n",
       "    </tr>\n",
       "    <tr>\n",
       "      <th>2</th>\n",
       "      <td>Human Resources Benefits</td>\n",
       "      <td>$800,593,969</td>\n",
       "      <td>7.60%</td>\n",
       "    </tr>\n",
       "    <tr>\n",
       "      <th>3</th>\n",
       "      <td>Wastewater Collection, Treatment, and Disposal</td>\n",
       "      <td>$576,990,112</td>\n",
       "      <td>5.48%</td>\n",
       "    </tr>\n",
       "    <tr>\n",
       "      <th>4</th>\n",
       "      <td>Building and Safety Building Permit Enterprise...</td>\n",
       "      <td>$380,536,770</td>\n",
       "      <td>3.61%</td>\n",
       "    </tr>\n",
       "  </tbody>\n",
       "</table>\n",
       "</div>"
      ],
      "text/plain": [
       "                                             Program    Appropriated  \\\n",
       "0  Tax and Revenue Anticipation Notes Debt Servic...  $1,323,536,029   \n",
       "1                                       Field Forces    $948,153,028   \n",
       "2                           Human Resources Benefits    $800,593,969   \n",
       "3     Wastewater Collection, Treatment, and Disposal    $576,990,112   \n",
       "4  Building and Safety Building Permit Enterprise...    $380,536,770   \n",
       "\n",
       "  % of Total  \n",
       "0     12.57%  \n",
       "1      9.00%  \n",
       "2      7.60%  \n",
       "3      5.48%  \n",
       "4      3.61%  "
      ]
     },
     "execution_count": 511,
     "metadata": {},
     "output_type": "execute_result"
    }
   ],
   "source": [
    "LA_proposed_2020_21_progs = create_df(prog_list, budget_list2, percentage_list2, 'Program')\n",
    "LA_proposed_2020_21_progs.head()"
   ]
  },
  {
   "cell_type": "code",
   "execution_count": 212,
   "metadata": {},
   "outputs": [],
   "source": [
    "close_driver(driver2)"
   ]
  },
  {
   "cell_type": "markdown",
   "metadata": {},
   "source": [
    "## 2019-20 LA City Accepted Budget - Departments"
   ]
  },
  {
   "cell_type": "code",
   "execution_count": 87,
   "metadata": {},
   "outputs": [],
   "source": [
    "driver3 = webdriver.Chrome(executable_path=DRIVER_PATH)\n",
    "driver3.get(get_url(2020, 'department'))"
   ]
  },
  {
   "cell_type": "code",
   "execution_count": 88,
   "metadata": {},
   "outputs": [],
   "source": [
    "all_text3 = get_all_text(driver3)"
   ]
  },
  {
   "cell_type": "code",
   "execution_count": 89,
   "metadata": {},
   "outputs": [],
   "source": [
    "# Departments/Funds\n",
    "dept_list2 = create_col_lists(all_text3, 0)\n",
    "\n",
    "# Budgets \n",
    "budget_list3 = create_col_lists(all_text3, 1)\n",
    "\n",
    "# Percentages of Total\n",
    "percentage_list3 = create_col_lists(all_text3, 2)"
   ]
  },
  {
   "cell_type": "code",
   "execution_count": 523,
   "metadata": {},
   "outputs": [
    {
     "data": {
      "text/html": [
       "<div>\n",
       "<style scoped>\n",
       "    .dataframe tbody tr th:only-of-type {\n",
       "        vertical-align: middle;\n",
       "    }\n",
       "\n",
       "    .dataframe tbody tr th {\n",
       "        vertical-align: top;\n",
       "    }\n",
       "\n",
       "    .dataframe thead th {\n",
       "        text-align: right;\n",
       "    }\n",
       "</style>\n",
       "<table border=\"1\" class=\"dataframe\">\n",
       "  <thead>\n",
       "    <tr style=\"text-align: right;\">\n",
       "      <th></th>\n",
       "      <th>Department/Fund</th>\n",
       "      <th>Appropriated</th>\n",
       "      <th>% of Total</th>\n",
       "    </tr>\n",
       "  </thead>\n",
       "  <tbody>\n",
       "    <tr>\n",
       "      <th>0</th>\n",
       "      <td>Police</td>\n",
       "      <td>$1,733,838,124</td>\n",
       "      <td>16.19%</td>\n",
       "    </tr>\n",
       "    <tr>\n",
       "      <th>1</th>\n",
       "      <td>Other Special Purpose Funds</td>\n",
       "      <td>$1,363,287,596</td>\n",
       "      <td>12.73%</td>\n",
       "    </tr>\n",
       "    <tr>\n",
       "      <th>2</th>\n",
       "      <td>Tax and Revenue Anticipation Notes</td>\n",
       "      <td>$1,302,296,587</td>\n",
       "      <td>12.16%</td>\n",
       "    </tr>\n",
       "    <tr>\n",
       "      <th>3</th>\n",
       "      <td>Human Resources Benefits</td>\n",
       "      <td>$743,564,377</td>\n",
       "      <td>6.94%</td>\n",
       "    </tr>\n",
       "    <tr>\n",
       "      <th>4</th>\n",
       "      <td>Fire</td>\n",
       "      <td>$691,009,340</td>\n",
       "      <td>6.45%</td>\n",
       "    </tr>\n",
       "  </tbody>\n",
       "</table>\n",
       "</div>"
      ],
      "text/plain": [
       "                      Department/Fund    Appropriated % of Total\n",
       "0                              Police  $1,733,838,124     16.19%\n",
       "1         Other Special Purpose Funds  $1,363,287,596     12.73%\n",
       "2  Tax and Revenue Anticipation Notes  $1,302,296,587     12.16%\n",
       "3            Human Resources Benefits    $743,564,377      6.94%\n",
       "4                                Fire    $691,009,340      6.45%"
      ]
     },
     "execution_count": 523,
     "metadata": {},
     "output_type": "execute_result"
    }
   ],
   "source": [
    "LA_accep_2019_20 = create_df(dept_list2, budget_list3, percentage_list3, 'Department/Fund')\n",
    "LA_accep_2019_20.head()"
   ]
  },
  {
   "cell_type": "code",
   "execution_count": 91,
   "metadata": {},
   "outputs": [],
   "source": [
    "close_driver(driver3)"
   ]
  },
  {
   "cell_type": "markdown",
   "metadata": {},
   "source": [
    "## 2019-20 LA City Accepted Budget - Programs"
   ]
  },
  {
   "cell_type": "code",
   "execution_count": 213,
   "metadata": {},
   "outputs": [],
   "source": [
    "driver4 = webdriver.Chrome(executable_path=DRIVER_PATH)\n",
    "driver4.get(get_url(2020, 'program'))"
   ]
  },
  {
   "cell_type": "code",
   "execution_count": 214,
   "metadata": {},
   "outputs": [],
   "source": [
    "all_text4 = get_all_text(driver4)"
   ]
  },
  {
   "cell_type": "code",
   "execution_count": 215,
   "metadata": {},
   "outputs": [],
   "source": [
    "# Programs\n",
    "prog_list2 = create_col_lists(all_text4, 0)\n",
    "\n",
    "# Budgets \n",
    "budget_list4 = create_col_lists(all_text4, 1)\n",
    "\n",
    "# Percentages of Total\n",
    "percentage_list4 = create_col_lists(all_text4, 2)"
   ]
  },
  {
   "cell_type": "code",
   "execution_count": 524,
   "metadata": {},
   "outputs": [
    {
     "data": {
      "text/html": [
       "<div>\n",
       "<style scoped>\n",
       "    .dataframe tbody tr th:only-of-type {\n",
       "        vertical-align: middle;\n",
       "    }\n",
       "\n",
       "    .dataframe tbody tr th {\n",
       "        vertical-align: top;\n",
       "    }\n",
       "\n",
       "    .dataframe thead th {\n",
       "        text-align: right;\n",
       "    }\n",
       "</style>\n",
       "<table border=\"1\" class=\"dataframe\">\n",
       "  <thead>\n",
       "    <tr style=\"text-align: right;\">\n",
       "      <th></th>\n",
       "      <th>Program</th>\n",
       "      <th>Appropriated</th>\n",
       "      <th>% of Total</th>\n",
       "    </tr>\n",
       "  </thead>\n",
       "  <tbody>\n",
       "    <tr>\n",
       "      <th>0</th>\n",
       "      <td>Tax and Revenue Anticipation Notes Debt Servic...</td>\n",
       "      <td>$1,302,296,587</td>\n",
       "      <td>12.16%</td>\n",
       "    </tr>\n",
       "    <tr>\n",
       "      <th>1</th>\n",
       "      <td>Field Forces</td>\n",
       "      <td>$871,402,544</td>\n",
       "      <td>8.14%</td>\n",
       "    </tr>\n",
       "    <tr>\n",
       "      <th>2</th>\n",
       "      <td>Human Resources Benefits</td>\n",
       "      <td>$743,564,377</td>\n",
       "      <td>6.94%</td>\n",
       "    </tr>\n",
       "    <tr>\n",
       "      <th>3</th>\n",
       "      <td>Wastewater Collection, Treatment, and Disposal</td>\n",
       "      <td>$597,021,942</td>\n",
       "      <td>5.57%</td>\n",
       "    </tr>\n",
       "    <tr>\n",
       "      <th>4</th>\n",
       "      <td>Building and Safety Building Permit Enterprise...</td>\n",
       "      <td>$377,092,942</td>\n",
       "      <td>3.52%</td>\n",
       "    </tr>\n",
       "  </tbody>\n",
       "</table>\n",
       "</div>"
      ],
      "text/plain": [
       "                                             Program    Appropriated  \\\n",
       "0  Tax and Revenue Anticipation Notes Debt Servic...  $1,302,296,587   \n",
       "1                                       Field Forces    $871,402,544   \n",
       "2                           Human Resources Benefits    $743,564,377   \n",
       "3     Wastewater Collection, Treatment, and Disposal    $597,021,942   \n",
       "4  Building and Safety Building Permit Enterprise...    $377,092,942   \n",
       "\n",
       "  % of Total  \n",
       "0     12.16%  \n",
       "1      8.14%  \n",
       "2      6.94%  \n",
       "3      5.57%  \n",
       "4      3.52%  "
      ]
     },
     "execution_count": 524,
     "metadata": {},
     "output_type": "execute_result"
    }
   ],
   "source": [
    "LA_accep_2019_20_progs = create_df(prog_list2, budget_list4, percentage_list4, 'Program')\n",
    "LA_accep_2019_20_progs.head()"
   ]
  },
  {
   "cell_type": "code",
   "execution_count": 217,
   "metadata": {},
   "outputs": [],
   "source": [
    "close_driver(driver4)"
   ]
  },
  {
   "cell_type": "markdown",
   "metadata": {},
   "source": [
    "## Combination LA City Budgets - Departments: 2019-20 VS 2020-21"
   ]
  },
  {
   "cell_type": "code",
   "execution_count": 531,
   "metadata": {},
   "outputs": [
    {
     "data": {
      "text/html": [
       "<div>\n",
       "<style scoped>\n",
       "    .dataframe tbody tr th:only-of-type {\n",
       "        vertical-align: middle;\n",
       "    }\n",
       "\n",
       "    .dataframe tbody tr th {\n",
       "        vertical-align: top;\n",
       "    }\n",
       "\n",
       "    .dataframe thead th {\n",
       "        text-align: right;\n",
       "    }\n",
       "</style>\n",
       "<table border=\"1\" class=\"dataframe\">\n",
       "  <thead>\n",
       "    <tr style=\"text-align: right;\">\n",
       "      <th></th>\n",
       "      <th>Department/Fund</th>\n",
       "      <th>FY20 Appropriated</th>\n",
       "      <th>FY20 % of Total</th>\n",
       "      <th>FY21 Appropriated</th>\n",
       "      <th>FY21 % of Total</th>\n",
       "      <th>FY20, FY21 % Change</th>\n",
       "    </tr>\n",
       "  </thead>\n",
       "  <tbody>\n",
       "    <tr>\n",
       "      <th>0</th>\n",
       "      <td>Police</td>\n",
       "      <td>1.733838e+09</td>\n",
       "      <td>16.19</td>\n",
       "      <td>1.857331e+09</td>\n",
       "      <td>17.64</td>\n",
       "      <td>7.122489</td>\n",
       "    </tr>\n",
       "    <tr>\n",
       "      <th>1</th>\n",
       "      <td>Other Special Purpose Funds</td>\n",
       "      <td>1.363288e+09</td>\n",
       "      <td>12.73</td>\n",
       "      <td>1.313794e+09</td>\n",
       "      <td>12.48</td>\n",
       "      <td>-3.630427</td>\n",
       "    </tr>\n",
       "    <tr>\n",
       "      <th>2</th>\n",
       "      <td>Tax and Revenue Anticipation Notes</td>\n",
       "      <td>1.302297e+09</td>\n",
       "      <td>12.16</td>\n",
       "      <td>1.323536e+09</td>\n",
       "      <td>12.57</td>\n",
       "      <td>1.630922</td>\n",
       "    </tr>\n",
       "    <tr>\n",
       "      <th>3</th>\n",
       "      <td>Human Resources Benefits</td>\n",
       "      <td>7.435644e+08</td>\n",
       "      <td>6.94</td>\n",
       "      <td>8.005940e+08</td>\n",
       "      <td>7.60</td>\n",
       "      <td>7.669758</td>\n",
       "    </tr>\n",
       "    <tr>\n",
       "      <th>4</th>\n",
       "      <td>Fire</td>\n",
       "      <td>6.910093e+08</td>\n",
       "      <td>6.45</td>\n",
       "      <td>7.322432e+08</td>\n",
       "      <td>6.95</td>\n",
       "      <td>5.967199</td>\n",
       "    </tr>\n",
       "  </tbody>\n",
       "</table>\n",
       "</div>"
      ],
      "text/plain": [
       "                      Department/Fund  FY20 Appropriated  FY20 % of Total  \\\n",
       "0                              Police       1.733838e+09            16.19   \n",
       "1         Other Special Purpose Funds       1.363288e+09            12.73   \n",
       "2  Tax and Revenue Anticipation Notes       1.302297e+09            12.16   \n",
       "3            Human Resources Benefits       7.435644e+08             6.94   \n",
       "4                                Fire       6.910093e+08             6.45   \n",
       "\n",
       "   FY21 Appropriated  FY21 % of Total  FY20, FY21 % Change  \n",
       "0       1.857331e+09            17.64             7.122489  \n",
       "1       1.313794e+09            12.48            -3.630427  \n",
       "2       1.323536e+09            12.57             1.630922  \n",
       "3       8.005940e+08             7.60             7.669758  \n",
       "4       7.322432e+08             6.95             5.967199  "
      ]
     },
     "execution_count": 531,
     "metadata": {},
     "output_type": "execute_result"
    }
   ],
   "source": [
    "LA_dept_merged = merge_20_21(LA_accep_2019_20, LA_proposed_2020_21, 'Department/Fund')\n",
    "LA_dept_merged.head()"
   ]
  },
  {
   "cell_type": "code",
   "execution_count": 606,
   "metadata": {},
   "outputs": [
    {
     "data": {
      "text/plain": [
       "<matplotlib.axes._subplots.AxesSubplot at 0x123e4ee80>"
      ]
     },
     "execution_count": 606,
     "metadata": {},
     "output_type": "execute_result"
    },
    {
     "data": {
      "image/png": "[encoded data removed]",
      "text/plain": [
       "<Figure size 1440x720 with 1 Axes>"
      ]
     },
     "metadata": {
      "needs_background": "light"
     },
     "output_type": "display_data"
    }
   ],
   "source": [
    "merged_bar_plot(LA_dept_merged)"
   ]
  },
  {
   "cell_type": "markdown",
   "metadata": {},
   "source": [
    "## Combination LA City Budgets - Programs: 2019-20 VS 2020-21"
   ]
  },
  {
   "cell_type": "code",
   "execution_count": 534,
   "metadata": {},
   "outputs": [
    {
     "data": {
      "text/html": [
       "<div>\n",
       "<style scoped>\n",
       "    .dataframe tbody tr th:only-of-type {\n",
       "        vertical-align: middle;\n",
       "    }\n",
       "\n",
       "    .dataframe tbody tr th {\n",
       "        vertical-align: top;\n",
       "    }\n",
       "\n",
       "    .dataframe thead th {\n",
       "        text-align: right;\n",
       "    }\n",
       "</style>\n",
       "<table border=\"1\" class=\"dataframe\">\n",
       "  <thead>\n",
       "    <tr style=\"text-align: right;\">\n",
       "      <th></th>\n",
       "      <th>Program</th>\n",
       "      <th>FY20 Appropriated</th>\n",
       "      <th>FY20 % of Total</th>\n",
       "      <th>FY21 Appropriated</th>\n",
       "      <th>FY21 % of Total</th>\n",
       "      <th>FY20, FY21 % Change</th>\n",
       "    </tr>\n",
       "  </thead>\n",
       "  <tbody>\n",
       "    <tr>\n",
       "      <th>0</th>\n",
       "      <td>Tax and Revenue Anticipation Notes Debt Servic...</td>\n",
       "      <td>1.302297e+09</td>\n",
       "      <td>12.16</td>\n",
       "      <td>1.323536e+09</td>\n",
       "      <td>12.57</td>\n",
       "      <td>1.630922</td>\n",
       "    </tr>\n",
       "    <tr>\n",
       "      <th>1</th>\n",
       "      <td>Field Forces</td>\n",
       "      <td>8.714025e+08</td>\n",
       "      <td>8.14</td>\n",
       "      <td>9.481530e+08</td>\n",
       "      <td>9.00</td>\n",
       "      <td>8.807696</td>\n",
       "    </tr>\n",
       "    <tr>\n",
       "      <th>2</th>\n",
       "      <td>Human Resources Benefits</td>\n",
       "      <td>7.435644e+08</td>\n",
       "      <td>6.94</td>\n",
       "      <td>8.005940e+08</td>\n",
       "      <td>7.60</td>\n",
       "      <td>7.669758</td>\n",
       "    </tr>\n",
       "    <tr>\n",
       "      <th>3</th>\n",
       "      <td>Wastewater Collection, Treatment, and Disposal</td>\n",
       "      <td>5.970219e+08</td>\n",
       "      <td>5.57</td>\n",
       "      <td>5.769901e+08</td>\n",
       "      <td>5.48</td>\n",
       "      <td>-3.355292</td>\n",
       "    </tr>\n",
       "    <tr>\n",
       "      <th>4</th>\n",
       "      <td>Building and Safety Building Permit Enterprise...</td>\n",
       "      <td>3.770929e+08</td>\n",
       "      <td>3.52</td>\n",
       "      <td>3.805368e+08</td>\n",
       "      <td>3.61</td>\n",
       "      <td>0.913257</td>\n",
       "    </tr>\n",
       "  </tbody>\n",
       "</table>\n",
       "</div>"
      ],
      "text/plain": [
       "                                             Program  FY20 Appropriated  \\\n",
       "0  Tax and Revenue Anticipation Notes Debt Servic...       1.302297e+09   \n",
       "1                                       Field Forces       8.714025e+08   \n",
       "2                           Human Resources Benefits       7.435644e+08   \n",
       "3     Wastewater Collection, Treatment, and Disposal       5.970219e+08   \n",
       "4  Building and Safety Building Permit Enterprise...       3.770929e+08   \n",
       "\n",
       "   FY20 % of Total  FY21 Appropriated  FY21 % of Total  FY20, FY21 % Change  \n",
       "0            12.16       1.323536e+09            12.57             1.630922  \n",
       "1             8.14       9.481530e+08             9.00             8.807696  \n",
       "2             6.94       8.005940e+08             7.60             7.669758  \n",
       "3             5.57       5.769901e+08             5.48            -3.355292  \n",
       "4             3.52       3.805368e+08             3.61             0.913257  "
      ]
     },
     "execution_count": 534,
     "metadata": {},
     "output_type": "execute_result"
    }
   ],
   "source": [
    "LA_progs_merged = merge_20_21(LA_accep_2019_20_progs, LA_proposed_2020_21_progs, 'Program')\n",
    "LA_progs_merged.head()"
   ]
  },
  {
   "cell_type": "markdown",
   "metadata": {},
   "source": [
    "## 2020-21 LAPD Proposed Budget"
   ]
  },
  {
   "cell_type": "code",
   "execution_count": 262,
   "metadata": {},
   "outputs": [],
   "source": [
    "driver5 = webdriver.Chrome(executable_path=DRIVER_PATH)\n",
    "driver5.get(get_url(2021, 'department', 'Police'))"
   ]
  },
  {
   "cell_type": "code",
   "execution_count": 263,
   "metadata": {},
   "outputs": [],
   "source": [
    "all_text5 = get_all_text(driver5)"
   ]
  },
  {
   "cell_type": "code",
   "execution_count": 264,
   "metadata": {},
   "outputs": [],
   "source": [
    "# Programs\n",
    "prog_list3 = create_col_lists(all_text5, 0)\n",
    "\n",
    "# Budgets \n",
    "budget_list5 = create_col_lists(all_text5, 1)\n",
    "\n",
    "# Percentages of Total\n",
    "percentage_list5 = create_col_lists(all_text5, 2)"
   ]
  },
  {
   "cell_type": "code",
   "execution_count": 516,
   "metadata": {},
   "outputs": [
    {
     "data": {
      "text/html": [
       "<div>\n",
       "<style scoped>\n",
       "    .dataframe tbody tr th:only-of-type {\n",
       "        vertical-align: middle;\n",
       "    }\n",
       "\n",
       "    .dataframe tbody tr th {\n",
       "        vertical-align: top;\n",
       "    }\n",
       "\n",
       "    .dataframe thead th {\n",
       "        text-align: right;\n",
       "    }\n",
       "</style>\n",
       "<table border=\"1\" class=\"dataframe\">\n",
       "  <thead>\n",
       "    <tr style=\"text-align: right;\">\n",
       "      <th></th>\n",
       "      <th>Program</th>\n",
       "      <th>Appropriated</th>\n",
       "      <th>% of Total</th>\n",
       "    </tr>\n",
       "  </thead>\n",
       "  <tbody>\n",
       "    <tr>\n",
       "      <th>0</th>\n",
       "      <td>Field Forces</td>\n",
       "      <td>$948,153,028</td>\n",
       "      <td>51.05%</td>\n",
       "    </tr>\n",
       "    <tr>\n",
       "      <th>1</th>\n",
       "      <td>Specialized Investigation</td>\n",
       "      <td>$194,655,099</td>\n",
       "      <td>10.48%</td>\n",
       "    </tr>\n",
       "    <tr>\n",
       "      <th>2</th>\n",
       "      <td>Specialized Enforcement and Protection</td>\n",
       "      <td>$193,169,157</td>\n",
       "      <td>10.40%</td>\n",
       "    </tr>\n",
       "    <tr>\n",
       "      <th>3</th>\n",
       "      <td>Departmental Support</td>\n",
       "      <td>$124,440,204</td>\n",
       "      <td>6.70%</td>\n",
       "    </tr>\n",
       "    <tr>\n",
       "      <th>4</th>\n",
       "      <td>Personnel Training and Support</td>\n",
       "      <td>$91,353,016</td>\n",
       "      <td>4.92%</td>\n",
       "    </tr>\n",
       "    <tr>\n",
       "      <th>5</th>\n",
       "      <td>Traffic Control</td>\n",
       "      <td>$88,188,675</td>\n",
       "      <td>4.75%</td>\n",
       "    </tr>\n",
       "    <tr>\n",
       "      <th>6</th>\n",
       "      <td>Custody of Persons and Property</td>\n",
       "      <td>$65,604,313</td>\n",
       "      <td>3.53%</td>\n",
       "    </tr>\n",
       "    <tr>\n",
       "      <th>7</th>\n",
       "      <td>Technology Support</td>\n",
       "      <td>$64,427,092</td>\n",
       "      <td>3.47%</td>\n",
       "    </tr>\n",
       "    <tr>\n",
       "      <th>8</th>\n",
       "      <td>Internal Integrity and Standards Enforcement</td>\n",
       "      <td>$60,450,976</td>\n",
       "      <td>3.25%</td>\n",
       "    </tr>\n",
       "    <tr>\n",
       "      <th>9</th>\n",
       "      <td>General Administration and Support</td>\n",
       "      <td>$26,888,989</td>\n",
       "      <td>1.45%</td>\n",
       "    </tr>\n",
       "    <tr>\n",
       "      <th>10</th>\n",
       "      <td>Total</td>\n",
       "      <td>$1,857,330,549</td>\n",
       "      <td>100%</td>\n",
       "    </tr>\n",
       "  </tbody>\n",
       "</table>\n",
       "</div>"
      ],
      "text/plain": [
       "                                         Program    Appropriated % of Total\n",
       "0                                   Field Forces    $948,153,028     51.05%\n",
       "1                      Specialized Investigation    $194,655,099     10.48%\n",
       "2         Specialized Enforcement and Protection    $193,169,157     10.40%\n",
       "3                           Departmental Support    $124,440,204      6.70%\n",
       "4                 Personnel Training and Support     $91,353,016      4.92%\n",
       "5                                Traffic Control     $88,188,675      4.75%\n",
       "6                Custody of Persons and Property     $65,604,313      3.53%\n",
       "7                             Technology Support     $64,427,092      3.47%\n",
       "8   Internal Integrity and Standards Enforcement     $60,450,976      3.25%\n",
       "9             General Administration and Support     $26,888,989      1.45%\n",
       "10                                         Total  $1,857,330,549       100%"
      ]
     },
     "execution_count": 516,
     "metadata": {},
     "output_type": "execute_result"
    }
   ],
   "source": [
    "LAPD_proposed_2020_21_progs = create_df(prog_list3, budget_list5, percentage_list5, 'Program')\n",
    "LAPD_proposed_2020_21_progs"
   ]
  },
  {
   "cell_type": "code",
   "execution_count": 269,
   "metadata": {},
   "outputs": [],
   "source": [
    "close_driver(driver5)"
   ]
  },
  {
   "cell_type": "markdown",
   "metadata": {},
   "source": [
    "## 2019-20 LAPD Accepted Budget"
   ]
  },
  {
   "cell_type": "code",
   "execution_count": 270,
   "metadata": {},
   "outputs": [],
   "source": [
    "driver6 = webdriver.Chrome(executable_path=DRIVER_PATH)\n",
    "driver6.get(get_url(2020, 'department', 'Police'))"
   ]
  },
  {
   "cell_type": "code",
   "execution_count": 271,
   "metadata": {},
   "outputs": [],
   "source": [
    "all_text6 = get_all_text(driver6)"
   ]
  },
  {
   "cell_type": "code",
   "execution_count": 272,
   "metadata": {},
   "outputs": [],
   "source": [
    "# Programs\n",
    "prog_list4 = create_col_lists(all_text6, 0)\n",
    "\n",
    "# Budgets \n",
    "budget_list6 = create_col_lists(all_text6, 1)\n",
    "\n",
    "# Percentages of Total\n",
    "percentage_list6 = create_col_lists(all_text6, 2)"
   ]
  },
  {
   "cell_type": "code",
   "execution_count": 517,
   "metadata": {},
   "outputs": [
    {
     "data": {
      "text/html": [
       "<div>\n",
       "<style scoped>\n",
       "    .dataframe tbody tr th:only-of-type {\n",
       "        vertical-align: middle;\n",
       "    }\n",
       "\n",
       "    .dataframe tbody tr th {\n",
       "        vertical-align: top;\n",
       "    }\n",
       "\n",
       "    .dataframe thead th {\n",
       "        text-align: right;\n",
       "    }\n",
       "</style>\n",
       "<table border=\"1\" class=\"dataframe\">\n",
       "  <thead>\n",
       "    <tr style=\"text-align: right;\">\n",
       "      <th></th>\n",
       "      <th>Program</th>\n",
       "      <th>Appropriated</th>\n",
       "      <th>% of Total</th>\n",
       "    </tr>\n",
       "  </thead>\n",
       "  <tbody>\n",
       "    <tr>\n",
       "      <th>0</th>\n",
       "      <td>Field Forces</td>\n",
       "      <td>$871,402,544</td>\n",
       "      <td>50.26%</td>\n",
       "    </tr>\n",
       "    <tr>\n",
       "      <th>1</th>\n",
       "      <td>Specialized Investigation</td>\n",
       "      <td>$190,135,966</td>\n",
       "      <td>10.97%</td>\n",
       "    </tr>\n",
       "    <tr>\n",
       "      <th>2</th>\n",
       "      <td>Specialized Enforcement and Protection</td>\n",
       "      <td>$158,987,488</td>\n",
       "      <td>9.17%</td>\n",
       "    </tr>\n",
       "    <tr>\n",
       "      <th>3</th>\n",
       "      <td>Departmental Support</td>\n",
       "      <td>$131,813,554</td>\n",
       "      <td>7.60%</td>\n",
       "    </tr>\n",
       "    <tr>\n",
       "      <th>4</th>\n",
       "      <td>Personnel Training and Support</td>\n",
       "      <td>$84,235,064</td>\n",
       "      <td>4.86%</td>\n",
       "    </tr>\n",
       "    <tr>\n",
       "      <th>5</th>\n",
       "      <td>Traffic Control</td>\n",
       "      <td>$80,806,956</td>\n",
       "      <td>4.66%</td>\n",
       "    </tr>\n",
       "    <tr>\n",
       "      <th>6</th>\n",
       "      <td>Custody of Persons and Property</td>\n",
       "      <td>$67,034,924</td>\n",
       "      <td>3.87%</td>\n",
       "    </tr>\n",
       "    <tr>\n",
       "      <th>7</th>\n",
       "      <td>Technology Support</td>\n",
       "      <td>$66,150,304</td>\n",
       "      <td>3.82%</td>\n",
       "    </tr>\n",
       "    <tr>\n",
       "      <th>8</th>\n",
       "      <td>Internal Integrity and Standards Enforcement</td>\n",
       "      <td>$56,909,500</td>\n",
       "      <td>3.28%</td>\n",
       "    </tr>\n",
       "    <tr>\n",
       "      <th>9</th>\n",
       "      <td>General Administration and Support</td>\n",
       "      <td>$26,361,824</td>\n",
       "      <td>1.52%</td>\n",
       "    </tr>\n",
       "    <tr>\n",
       "      <th>10</th>\n",
       "      <td>Total</td>\n",
       "      <td>$1,733,838,124</td>\n",
       "      <td>100%</td>\n",
       "    </tr>\n",
       "  </tbody>\n",
       "</table>\n",
       "</div>"
      ],
      "text/plain": [
       "                                         Program    Appropriated % of Total\n",
       "0                                   Field Forces    $871,402,544     50.26%\n",
       "1                      Specialized Investigation    $190,135,966     10.97%\n",
       "2         Specialized Enforcement and Protection    $158,987,488      9.17%\n",
       "3                           Departmental Support    $131,813,554      7.60%\n",
       "4                 Personnel Training and Support     $84,235,064      4.86%\n",
       "5                                Traffic Control     $80,806,956      4.66%\n",
       "6                Custody of Persons and Property     $67,034,924      3.87%\n",
       "7                             Technology Support     $66,150,304      3.82%\n",
       "8   Internal Integrity and Standards Enforcement     $56,909,500      3.28%\n",
       "9             General Administration and Support     $26,361,824      1.52%\n",
       "10                                         Total  $1,733,838,124       100%"
      ]
     },
     "execution_count": 517,
     "metadata": {},
     "output_type": "execute_result"
    }
   ],
   "source": [
    "LAPD_accep_2019_20_progs = create_df(prog_list4, budget_list6, percentage_list6, \"Program\")\n",
    "LAPD_accep_2019_20_progs"
   ]
  },
  {
   "cell_type": "code",
   "execution_count": 274,
   "metadata": {},
   "outputs": [],
   "source": [
    "close_driver(driver6)"
   ]
  },
  {
   "cell_type": "markdown",
   "metadata": {},
   "source": [
    "## Combination LAPD Budgets: 2019-20 VS 2020-21"
   ]
  },
  {
   "cell_type": "code",
   "execution_count": 536,
   "metadata": {},
   "outputs": [
    {
     "data": {
      "text/html": [
       "<div>\n",
       "<style scoped>\n",
       "    .dataframe tbody tr th:only-of-type {\n",
       "        vertical-align: middle;\n",
       "    }\n",
       "\n",
       "    .dataframe tbody tr th {\n",
       "        vertical-align: top;\n",
       "    }\n",
       "\n",
       "    .dataframe thead th {\n",
       "        text-align: right;\n",
       "    }\n",
       "</style>\n",
       "<table border=\"1\" class=\"dataframe\">\n",
       "  <thead>\n",
       "    <tr style=\"text-align: right;\">\n",
       "      <th></th>\n",
       "      <th>Program</th>\n",
       "      <th>FY20 Appropriated</th>\n",
       "      <th>FY20 % of Total</th>\n",
       "      <th>FY21 Appropriated</th>\n",
       "      <th>FY21 % of Total</th>\n",
       "      <th>FY20, FY21 % Change</th>\n",
       "    </tr>\n",
       "  </thead>\n",
       "  <tbody>\n",
       "    <tr>\n",
       "      <th>0</th>\n",
       "      <td>Field Forces</td>\n",
       "      <td>871402544.0</td>\n",
       "      <td>50.26</td>\n",
       "      <td>948153028.0</td>\n",
       "      <td>51.05</td>\n",
       "      <td>8.807696</td>\n",
       "    </tr>\n",
       "    <tr>\n",
       "      <th>1</th>\n",
       "      <td>Specialized Investigation</td>\n",
       "      <td>190135966.0</td>\n",
       "      <td>10.97</td>\n",
       "      <td>194655099.0</td>\n",
       "      <td>10.48</td>\n",
       "      <td>2.376790</td>\n",
       "    </tr>\n",
       "    <tr>\n",
       "      <th>2</th>\n",
       "      <td>Specialized Enforcement and Protection</td>\n",
       "      <td>158987488.0</td>\n",
       "      <td>9.17</td>\n",
       "      <td>193169157.0</td>\n",
       "      <td>10.40</td>\n",
       "      <td>21.499597</td>\n",
       "    </tr>\n",
       "    <tr>\n",
       "      <th>3</th>\n",
       "      <td>Departmental Support</td>\n",
       "      <td>131813554.0</td>\n",
       "      <td>7.60</td>\n",
       "      <td>124440204.0</td>\n",
       "      <td>6.70</td>\n",
       "      <td>-5.593772</td>\n",
       "    </tr>\n",
       "    <tr>\n",
       "      <th>4</th>\n",
       "      <td>Personnel Training and Support</td>\n",
       "      <td>84235064.0</td>\n",
       "      <td>4.86</td>\n",
       "      <td>91353016.0</td>\n",
       "      <td>4.92</td>\n",
       "      <td>8.450106</td>\n",
       "    </tr>\n",
       "  </tbody>\n",
       "</table>\n",
       "</div>"
      ],
      "text/plain": [
       "                                  Program  FY20 Appropriated  FY20 % of Total  \\\n",
       "0                            Field Forces        871402544.0            50.26   \n",
       "1               Specialized Investigation        190135966.0            10.97   \n",
       "2  Specialized Enforcement and Protection        158987488.0             9.17   \n",
       "3                    Departmental Support        131813554.0             7.60   \n",
       "4          Personnel Training and Support         84235064.0             4.86   \n",
       "\n",
       "   FY21 Appropriated  FY21 % of Total  FY20, FY21 % Change  \n",
       "0        948153028.0            51.05             8.807696  \n",
       "1        194655099.0            10.48             2.376790  \n",
       "2        193169157.0            10.40            21.499597  \n",
       "3        124440204.0             6.70            -5.593772  \n",
       "4         91353016.0             4.92             8.450106  "
      ]
     },
     "execution_count": 536,
     "metadata": {},
     "output_type": "execute_result"
    }
   ],
   "source": [
    "LAPD_merged = merge_20_21(LAPD_accep_2019_20_progs, LAPD_proposed_2020_21_progs, 'Program')\n",
    "LAPD_merged.head()"
   ]
  },
  {
   "cell_type": "code",
   "execution_count": 608,
   "metadata": {},
   "outputs": [
    {
     "data": {
      "text/plain": [
       "<matplotlib.axes._subplots.AxesSubplot at 0x121b51748>"
      ]
     },
     "execution_count": 608,
     "metadata": {},
     "output_type": "execute_result"
    },
    {
     "data": {
      "image/png": "[encoded data removed]",
      "text/plain": [
       "<Figure size 1440x720 with 1 Axes>"
      ]
     },
     "metadata": {
      "needs_background": "light"
     },
     "output_type": "display_data"
    }
   ],
   "source": [
    "merged_bar_plot(LAPD_merged)"
   ]
  },
  {
   "cell_type": "markdown",
   "metadata": {},
   "source": [
    "## 2020-21 LADOT Proposed Budget"
   ]
  },
  {
   "cell_type": "code",
   "execution_count": 282,
   "metadata": {},
   "outputs": [],
   "source": [
    "driver7 = webdriver.Chrome(executable_path=DRIVER_PATH)\n",
    "driver7.get(get_url(2021, 'department', 'Transportation'))"
   ]
  },
  {
   "cell_type": "code",
   "execution_count": 283,
   "metadata": {},
   "outputs": [],
   "source": [
    "all_text7 = get_all_text(driver7)"
   ]
  },
  {
   "cell_type": "code",
   "execution_count": 284,
   "metadata": {},
   "outputs": [],
   "source": [
    "# Programs\n",
    "prog_list5 = create_col_lists(all_text7, 0)\n",
    "\n",
    "# Budgets \n",
    "budget_list7 = create_col_lists(all_text7, 1)\n",
    "\n",
    "# Percentages of Total\n",
    "percentage_list7 = create_col_lists(all_text7, 2)"
   ]
  },
  {
   "cell_type": "code",
   "execution_count": 518,
   "metadata": {},
   "outputs": [
    {
     "data": {
      "text/html": [
       "<div>\n",
       "<style scoped>\n",
       "    .dataframe tbody tr th:only-of-type {\n",
       "        vertical-align: middle;\n",
       "    }\n",
       "\n",
       "    .dataframe tbody tr th {\n",
       "        vertical-align: top;\n",
       "    }\n",
       "\n",
       "    .dataframe thead th {\n",
       "        text-align: right;\n",
       "    }\n",
       "</style>\n",
       "<table border=\"1\" class=\"dataframe\">\n",
       "  <thead>\n",
       "    <tr style=\"text-align: right;\">\n",
       "      <th></th>\n",
       "      <th>Program</th>\n",
       "      <th>Appropriated</th>\n",
       "      <th>% of Total</th>\n",
       "    </tr>\n",
       "  </thead>\n",
       "  <tbody>\n",
       "    <tr>\n",
       "      <th>0</th>\n",
       "      <td>Parking Enforcement Services</td>\n",
       "      <td>$60,425,872</td>\n",
       "      <td>33.50%</td>\n",
       "    </tr>\n",
       "    <tr>\n",
       "      <th>1</th>\n",
       "      <td>Traffic Signals and Systems</td>\n",
       "      <td>$24,085,724</td>\n",
       "      <td>13.35%</td>\n",
       "    </tr>\n",
       "    <tr>\n",
       "      <th>2</th>\n",
       "      <td>Streets and Sign Management</td>\n",
       "      <td>$22,499,194</td>\n",
       "      <td>12.47%</td>\n",
       "    </tr>\n",
       "    <tr>\n",
       "      <th>3</th>\n",
       "      <td>Parking Citation Processing Services</td>\n",
       "      <td>$14,053,740</td>\n",
       "      <td>7.79%</td>\n",
       "    </tr>\n",
       "    <tr>\n",
       "      <th>4</th>\n",
       "      <td>Crossing Guard Services</td>\n",
       "      <td>$7,894,421</td>\n",
       "      <td>4.38%</td>\n",
       "    </tr>\n",
       "    <tr>\n",
       "      <th>5</th>\n",
       "      <td>General Administration and Support</td>\n",
       "      <td>$6,694,046</td>\n",
       "      <td>3.71%</td>\n",
       "    </tr>\n",
       "    <tr>\n",
       "      <th>6</th>\n",
       "      <td>Parking Facilities, Meters, and Operations</td>\n",
       "      <td>$6,655,674</td>\n",
       "      <td>3.69%</td>\n",
       "    </tr>\n",
       "    <tr>\n",
       "      <th>7</th>\n",
       "      <td>District Offices</td>\n",
       "      <td>$6,139,932</td>\n",
       "      <td>3.40%</td>\n",
       "    </tr>\n",
       "    <tr>\n",
       "      <th>8</th>\n",
       "      <td>Active Transportation</td>\n",
       "      <td>$4,913,707</td>\n",
       "      <td>2.72%</td>\n",
       "    </tr>\n",
       "    <tr>\n",
       "      <th>9</th>\n",
       "      <td>Major Project Coordination</td>\n",
       "      <td>$4,889,247</td>\n",
       "      <td>2.71%</td>\n",
       "    </tr>\n",
       "    <tr>\n",
       "      <th>10</th>\n",
       "      <td>Public Transit Services</td>\n",
       "      <td>$4,853,920</td>\n",
       "      <td>2.69%</td>\n",
       "    </tr>\n",
       "    <tr>\n",
       "      <th>11</th>\n",
       "      <td>Transportation Infrastructure and Project Deli...</td>\n",
       "      <td>$4,459,360</td>\n",
       "      <td>2.47%</td>\n",
       "    </tr>\n",
       "    <tr>\n",
       "      <th>12</th>\n",
       "      <td>Sustainable Transportation</td>\n",
       "      <td>$3,926,444</td>\n",
       "      <td>2.18%</td>\n",
       "    </tr>\n",
       "    <tr>\n",
       "      <th>13</th>\n",
       "      <td>Transportation Planning and Land Use</td>\n",
       "      <td>$3,920,027</td>\n",
       "      <td>2.17%</td>\n",
       "    </tr>\n",
       "    <tr>\n",
       "      <th>14</th>\n",
       "      <td>Emergency Management and Special Events</td>\n",
       "      <td>$2,776,152</td>\n",
       "      <td>1.54%</td>\n",
       "    </tr>\n",
       "    <tr>\n",
       "      <th>15</th>\n",
       "      <td>Technology Support</td>\n",
       "      <td>$2,185,590</td>\n",
       "      <td>1.21%</td>\n",
       "    </tr>\n",
       "    <tr>\n",
       "      <th>16</th>\n",
       "      <td>Total</td>\n",
       "      <td>$180,373,050</td>\n",
       "      <td>100%</td>\n",
       "    </tr>\n",
       "  </tbody>\n",
       "</table>\n",
       "</div>"
      ],
      "text/plain": [
       "                                              Program  Appropriated % of Total\n",
       "0                        Parking Enforcement Services   $60,425,872     33.50%\n",
       "1                         Traffic Signals and Systems   $24,085,724     13.35%\n",
       "2                         Streets and Sign Management   $22,499,194     12.47%\n",
       "3                Parking Citation Processing Services   $14,053,740      7.79%\n",
       "4                             Crossing Guard Services    $7,894,421      4.38%\n",
       "5                  General Administration and Support    $6,694,046      3.71%\n",
       "6          Parking Facilities, Meters, and Operations    $6,655,674      3.69%\n",
       "7                                    District Offices    $6,139,932      3.40%\n",
       "8                               Active Transportation    $4,913,707      2.72%\n",
       "9                          Major Project Coordination    $4,889,247      2.71%\n",
       "10                            Public Transit Services    $4,853,920      2.69%\n",
       "11  Transportation Infrastructure and Project Deli...    $4,459,360      2.47%\n",
       "12                         Sustainable Transportation    $3,926,444      2.18%\n",
       "13               Transportation Planning and Land Use    $3,920,027      2.17%\n",
       "14            Emergency Management and Special Events    $2,776,152      1.54%\n",
       "15                                 Technology Support    $2,185,590      1.21%\n",
       "16                                              Total  $180,373,050       100%"
      ]
     },
     "execution_count": 518,
     "metadata": {},
     "output_type": "execute_result"
    }
   ],
   "source": [
    "LADOT_proposed_2020_21_progs = create_df(prog_list5, budget_list7, percentage_list7, \"Program\")\n",
    "LADOT_proposed_2020_21_progs"
   ]
  },
  {
   "cell_type": "code",
   "execution_count": 286,
   "metadata": {},
   "outputs": [],
   "source": [
    "close_driver(driver7)"
   ]
  },
  {
   "cell_type": "markdown",
   "metadata": {},
   "source": [
    "## 2019-20 LADOT Accepted Budget"
   ]
  },
  {
   "cell_type": "code",
   "execution_count": 313,
   "metadata": {},
   "outputs": [],
   "source": [
    "driver8 = webdriver.Chrome(executable_path=DRIVER_PATH)\n",
    "driver8.get(get_url(2020, 'department', 'Transportation'))"
   ]
  },
  {
   "cell_type": "code",
   "execution_count": 314,
   "metadata": {},
   "outputs": [],
   "source": [
    "all_text8 = get_all_text(driver8)"
   ]
  },
  {
   "cell_type": "code",
   "execution_count": 315,
   "metadata": {},
   "outputs": [],
   "source": [
    "# Programs\n",
    "prog_list6 = create_col_lists(all_text8, 0)\n",
    "\n",
    "# Budgets \n",
    "budget_list8 = create_col_lists(all_text8, 1)\n",
    "\n",
    "# Percentages of Total\n",
    "percentage_list8 = create_col_lists(all_text8, 2)"
   ]
  },
  {
   "cell_type": "code",
   "execution_count": 519,
   "metadata": {},
   "outputs": [
    {
     "data": {
      "text/html": [
       "<div>\n",
       "<style scoped>\n",
       "    .dataframe tbody tr th:only-of-type {\n",
       "        vertical-align: middle;\n",
       "    }\n",
       "\n",
       "    .dataframe tbody tr th {\n",
       "        vertical-align: top;\n",
       "    }\n",
       "\n",
       "    .dataframe thead th {\n",
       "        text-align: right;\n",
       "    }\n",
       "</style>\n",
       "<table border=\"1\" class=\"dataframe\">\n",
       "  <thead>\n",
       "    <tr style=\"text-align: right;\">\n",
       "      <th></th>\n",
       "      <th>Program</th>\n",
       "      <th>Appropriated</th>\n",
       "      <th>% of Total</th>\n",
       "    </tr>\n",
       "  </thead>\n",
       "  <tbody>\n",
       "    <tr>\n",
       "      <th>0</th>\n",
       "      <td>Parking Enforcement Services</td>\n",
       "      <td>$60,022,647</td>\n",
       "      <td>32.10%</td>\n",
       "    </tr>\n",
       "    <tr>\n",
       "      <th>1</th>\n",
       "      <td>Traffic Signals and Systems</td>\n",
       "      <td>$27,010,867</td>\n",
       "      <td>14.45%</td>\n",
       "    </tr>\n",
       "    <tr>\n",
       "      <th>2</th>\n",
       "      <td>Streets and Sign Management</td>\n",
       "      <td>$23,469,210</td>\n",
       "      <td>12.55%</td>\n",
       "    </tr>\n",
       "    <tr>\n",
       "      <th>3</th>\n",
       "      <td>Parking Citation Processing Services</td>\n",
       "      <td>$14,377,821</td>\n",
       "      <td>7.69%</td>\n",
       "    </tr>\n",
       "    <tr>\n",
       "      <th>4</th>\n",
       "      <td>Crossing Guard Services</td>\n",
       "      <td>$7,620,727</td>\n",
       "      <td>4.08%</td>\n",
       "    </tr>\n",
       "    <tr>\n",
       "      <th>5</th>\n",
       "      <td>Parking Facilities, Meters, and Operations</td>\n",
       "      <td>$7,426,127</td>\n",
       "      <td>3.97%</td>\n",
       "    </tr>\n",
       "    <tr>\n",
       "      <th>6</th>\n",
       "      <td>General Administration and Support</td>\n",
       "      <td>$7,374,419</td>\n",
       "      <td>3.94%</td>\n",
       "    </tr>\n",
       "    <tr>\n",
       "      <th>7</th>\n",
       "      <td>Active Transportation</td>\n",
       "      <td>$5,500,179</td>\n",
       "      <td>2.94%</td>\n",
       "    </tr>\n",
       "    <tr>\n",
       "      <th>8</th>\n",
       "      <td>Public Transit Services</td>\n",
       "      <td>$5,357,192</td>\n",
       "      <td>2.87%</td>\n",
       "    </tr>\n",
       "    <tr>\n",
       "      <th>9</th>\n",
       "      <td>District Offices</td>\n",
       "      <td>$5,346,128</td>\n",
       "      <td>2.86%</td>\n",
       "    </tr>\n",
       "    <tr>\n",
       "      <th>10</th>\n",
       "      <td>Major Project Coordination</td>\n",
       "      <td>$5,179,735</td>\n",
       "      <td>2.77%</td>\n",
       "    </tr>\n",
       "    <tr>\n",
       "      <th>11</th>\n",
       "      <td>Transportation Infrastructure and Project Deli...</td>\n",
       "      <td>$4,760,095</td>\n",
       "      <td>2.55%</td>\n",
       "    </tr>\n",
       "    <tr>\n",
       "      <th>12</th>\n",
       "      <td>Transportation Planning and Land Use</td>\n",
       "      <td>$4,321,844</td>\n",
       "      <td>2.31%</td>\n",
       "    </tr>\n",
       "    <tr>\n",
       "      <th>13</th>\n",
       "      <td>Sustainable Transportation</td>\n",
       "      <td>$3,766,853</td>\n",
       "      <td>2.01%</td>\n",
       "    </tr>\n",
       "    <tr>\n",
       "      <th>14</th>\n",
       "      <td>Emergency Management and Special Events</td>\n",
       "      <td>$2,893,488</td>\n",
       "      <td>1.55%</td>\n",
       "    </tr>\n",
       "    <tr>\n",
       "      <th>15</th>\n",
       "      <td>Technology Support</td>\n",
       "      <td>$2,537,544</td>\n",
       "      <td>1.36%</td>\n",
       "    </tr>\n",
       "    <tr>\n",
       "      <th>16</th>\n",
       "      <td>Total</td>\n",
       "      <td>$186,964,876</td>\n",
       "      <td>100%</td>\n",
       "    </tr>\n",
       "  </tbody>\n",
       "</table>\n",
       "</div>"
      ],
      "text/plain": [
       "                                              Program  Appropriated % of Total\n",
       "0                        Parking Enforcement Services   $60,022,647     32.10%\n",
       "1                         Traffic Signals and Systems   $27,010,867     14.45%\n",
       "2                         Streets and Sign Management   $23,469,210     12.55%\n",
       "3                Parking Citation Processing Services   $14,377,821      7.69%\n",
       "4                             Crossing Guard Services    $7,620,727      4.08%\n",
       "5          Parking Facilities, Meters, and Operations    $7,426,127      3.97%\n",
       "6                  General Administration and Support    $7,374,419      3.94%\n",
       "7                               Active Transportation    $5,500,179      2.94%\n",
       "8                             Public Transit Services    $5,357,192      2.87%\n",
       "9                                    District Offices    $5,346,128      2.86%\n",
       "10                         Major Project Coordination    $5,179,735      2.77%\n",
       "11  Transportation Infrastructure and Project Deli...    $4,760,095      2.55%\n",
       "12               Transportation Planning and Land Use    $4,321,844      2.31%\n",
       "13                         Sustainable Transportation    $3,766,853      2.01%\n",
       "14            Emergency Management and Special Events    $2,893,488      1.55%\n",
       "15                                 Technology Support    $2,537,544      1.36%\n",
       "16                                              Total  $186,964,876       100%"
      ]
     },
     "execution_count": 519,
     "metadata": {},
     "output_type": "execute_result"
    }
   ],
   "source": [
    "LADOT_accep_2019_20_progs = create_df(prog_list6, budget_list8, percentage_list8, \"Program\")\n",
    "LADOT_accep_2019_20_progs"
   ]
  },
  {
   "cell_type": "code",
   "execution_count": 317,
   "metadata": {},
   "outputs": [],
   "source": [
    "close_driver(driver8)"
   ]
  },
  {
   "cell_type": "markdown",
   "metadata": {},
   "source": [
    "## Combination LADOT Budgets: 2019-20 VS 2020-21"
   ]
  },
  {
   "cell_type": "code",
   "execution_count": 537,
   "metadata": {},
   "outputs": [
    {
     "data": {
      "text/html": [
       "<div>\n",
       "<style scoped>\n",
       "    .dataframe tbody tr th:only-of-type {\n",
       "        vertical-align: middle;\n",
       "    }\n",
       "\n",
       "    .dataframe tbody tr th {\n",
       "        vertical-align: top;\n",
       "    }\n",
       "\n",
       "    .dataframe thead th {\n",
       "        text-align: right;\n",
       "    }\n",
       "</style>\n",
       "<table border=\"1\" class=\"dataframe\">\n",
       "  <thead>\n",
       "    <tr style=\"text-align: right;\">\n",
       "      <th></th>\n",
       "      <th>Program</th>\n",
       "      <th>FY20 Appropriated</th>\n",
       "      <th>FY20 % of Total</th>\n",
       "      <th>FY21 Appropriated</th>\n",
       "      <th>FY21 % of Total</th>\n",
       "      <th>FY20, FY21 % Change</th>\n",
       "    </tr>\n",
       "  </thead>\n",
       "  <tbody>\n",
       "    <tr>\n",
       "      <th>0</th>\n",
       "      <td>Parking Enforcement Services</td>\n",
       "      <td>60022647.0</td>\n",
       "      <td>32.10</td>\n",
       "      <td>60425872.0</td>\n",
       "      <td>33.50</td>\n",
       "      <td>0.671788</td>\n",
       "    </tr>\n",
       "    <tr>\n",
       "      <th>1</th>\n",
       "      <td>Traffic Signals and Systems</td>\n",
       "      <td>27010867.0</td>\n",
       "      <td>14.45</td>\n",
       "      <td>24085724.0</td>\n",
       "      <td>13.35</td>\n",
       "      <td>-10.829504</td>\n",
       "    </tr>\n",
       "    <tr>\n",
       "      <th>2</th>\n",
       "      <td>Streets and Sign Management</td>\n",
       "      <td>23469210.0</td>\n",
       "      <td>12.55</td>\n",
       "      <td>22499194.0</td>\n",
       "      <td>12.47</td>\n",
       "      <td>-4.133143</td>\n",
       "    </tr>\n",
       "    <tr>\n",
       "      <th>3</th>\n",
       "      <td>Parking Citation Processing Services</td>\n",
       "      <td>14377821.0</td>\n",
       "      <td>7.69</td>\n",
       "      <td>14053740.0</td>\n",
       "      <td>7.79</td>\n",
       "      <td>-2.254034</td>\n",
       "    </tr>\n",
       "    <tr>\n",
       "      <th>4</th>\n",
       "      <td>Crossing Guard Services</td>\n",
       "      <td>7620727.0</td>\n",
       "      <td>4.08</td>\n",
       "      <td>7894421.0</td>\n",
       "      <td>4.38</td>\n",
       "      <td>3.591442</td>\n",
       "    </tr>\n",
       "  </tbody>\n",
       "</table>\n",
       "</div>"
      ],
      "text/plain": [
       "                                Program  FY20 Appropriated  FY20 % of Total  \\\n",
       "0          Parking Enforcement Services         60022647.0            32.10   \n",
       "1           Traffic Signals and Systems         27010867.0            14.45   \n",
       "2           Streets and Sign Management         23469210.0            12.55   \n",
       "3  Parking Citation Processing Services         14377821.0             7.69   \n",
       "4               Crossing Guard Services          7620727.0             4.08   \n",
       "\n",
       "   FY21 Appropriated  FY21 % of Total  FY20, FY21 % Change  \n",
       "0         60425872.0            33.50             0.671788  \n",
       "1         24085724.0            13.35           -10.829504  \n",
       "2         22499194.0            12.47            -4.133143  \n",
       "3         14053740.0             7.79            -2.254034  \n",
       "4          7894421.0             4.38             3.591442  "
      ]
     },
     "execution_count": 537,
     "metadata": {},
     "output_type": "execute_result"
    }
   ],
   "source": [
    "LADOT_merged = merge_20_21(LADOT_accep_2019_20_progs, LADOT_proposed_2020_21_progs, 'Program')\n",
    "LADOT_merged.head()"
   ]
  },
  {
   "cell_type": "code",
   "execution_count": 609,
   "metadata": {},
   "outputs": [
    {
     "data": {
      "text/plain": [
       "<matplotlib.axes._subplots.AxesSubplot at 0x121f99400>"
      ]
     },
     "execution_count": 609,
     "metadata": {},
     "output_type": "execute_result"
    },
    {
     "data": {
      "image/png": "[encoded data removed]",
      "text/plain": [
       "<Figure size 1440x720 with 1 Axes>"
      ]
     },
     "metadata": {
      "needs_background": "light"
     },
     "output_type": "display_data"
    }
   ],
   "source": [
    "merged_bar_plot(LADOT_merged)"
   ]
  },
  {
   "cell_type": "markdown",
   "metadata": {},
   "source": [
    "# 2020 - 21 Technology Support (Program)\n",
    "\n",
    "### Two tables: \n",
    "#### N/A (Department/Fund)\n",
    "#### Not Categorized (Expense)"
   ]
  },
  {
   "cell_type": "code",
   "execution_count": 616,
   "metadata": {},
   "outputs": [
    {
     "data": {
      "text/html": [
       "<div>\n",
       "<style scoped>\n",
       "    .dataframe tbody tr th:only-of-type {\n",
       "        vertical-align: middle;\n",
       "    }\n",
       "\n",
       "    .dataframe tbody tr th {\n",
       "        vertical-align: top;\n",
       "    }\n",
       "\n",
       "    .dataframe thead th {\n",
       "        text-align: right;\n",
       "    }\n",
       "</style>\n",
       "<table border=\"1\" class=\"dataframe\">\n",
       "  <thead>\n",
       "    <tr style=\"text-align: right;\">\n",
       "      <th></th>\n",
       "      <th>Department/Fund/Expense</th>\n",
       "      <th>Appropriated</th>\n",
       "      <th>% of Total</th>\n",
       "    </tr>\n",
       "  </thead>\n",
       "  <tbody>\n",
       "    <tr>\n",
       "      <th>0</th>\n",
       "      <td>Police</td>\n",
       "      <td>$64,427,092</td>\n",
       "      <td>60.35%</td>\n",
       "    </tr>\n",
       "    <tr>\n",
       "      <th>1</th>\n",
       "      <td>Bureau of Sanitation</td>\n",
       "      <td>$11,735,791</td>\n",
       "      <td>10.99%</td>\n",
       "    </tr>\n",
       "    <tr>\n",
       "      <th>2</th>\n",
       "      <td>Fire</td>\n",
       "      <td>$11,147,539</td>\n",
       "      <td>10.44%</td>\n",
       "    </tr>\n",
       "    <tr>\n",
       "      <th>3</th>\n",
       "      <td>City Planning</td>\n",
       "      <td>$9,713,253</td>\n",
       "      <td>9.10%</td>\n",
       "    </tr>\n",
       "    <tr>\n",
       "      <th>4</th>\n",
       "      <td>Housing and Community Investment</td>\n",
       "      <td>$3,439,245</td>\n",
       "      <td>3.22%</td>\n",
       "    </tr>\n",
       "    <tr>\n",
       "      <th>5</th>\n",
       "      <td>Transportation</td>\n",
       "      <td>$2,185,590</td>\n",
       "      <td>2.05%</td>\n",
       "    </tr>\n",
       "    <tr>\n",
       "      <th>6</th>\n",
       "      <td>Economic and Workforce Development</td>\n",
       "      <td>$1,584,901</td>\n",
       "      <td>1.48%</td>\n",
       "    </tr>\n",
       "    <tr>\n",
       "      <th>7</th>\n",
       "      <td>Personnel</td>\n",
       "      <td>$1,223,223</td>\n",
       "      <td>1.15%</td>\n",
       "    </tr>\n",
       "    <tr>\n",
       "      <th>8</th>\n",
       "      <td>City Clerk</td>\n",
       "      <td>$961,319</td>\n",
       "      <td>0.90%</td>\n",
       "    </tr>\n",
       "    <tr>\n",
       "      <th>9</th>\n",
       "      <td>Zoo</td>\n",
       "      <td>$335,388</td>\n",
       "      <td>0.31%</td>\n",
       "    </tr>\n",
       "    <tr>\n",
       "      <th>10</th>\n",
       "      <td>Total</td>\n",
       "      <td>$106,753,341</td>\n",
       "      <td>100%</td>\n",
       "    </tr>\n",
       "  </tbody>\n",
       "</table>\n",
       "</div>"
      ],
      "text/plain": [
       "               Department/Fund/Expense  Appropriated % of Total\n",
       "0                               Police   $64,427,092     60.35%\n",
       "1                 Bureau of Sanitation   $11,735,791     10.99%\n",
       "2                                 Fire   $11,147,539     10.44%\n",
       "3                        City Planning    $9,713,253      9.10%\n",
       "4     Housing and Community Investment    $3,439,245      3.22%\n",
       "5                       Transportation    $2,185,590      2.05%\n",
       "6   Economic and Workforce Development    $1,584,901      1.48%\n",
       "7                            Personnel    $1,223,223      1.15%\n",
       "8                           City Clerk      $961,319      0.90%\n",
       "9                                  Zoo      $335,388      0.31%\n",
       "10                               Total  $106,753,341       100%"
      ]
     },
     "execution_count": 616,
     "metadata": {},
     "output_type": "execute_result"
    }
   ],
   "source": [
    "tech_21 = create_tech_dfs(2021)[0]\n",
    "tech_21"
   ]
  },
  {
   "cell_type": "markdown",
   "metadata": {},
   "source": [
    "# 2019 - 20 Technology Support (Program)\n",
    "\n",
    "### Two tables: \n",
    "#### A Livable and Sustainable City (Department/Fund)\n",
    "#### Not Categorized (Expense)"
   ]
  },
  {
   "cell_type": "code",
   "execution_count": 617,
   "metadata": {},
   "outputs": [
    {
     "data": {
      "text/html": [
       "<div>\n",
       "<style scoped>\n",
       "    .dataframe tbody tr th:only-of-type {\n",
       "        vertical-align: middle;\n",
       "    }\n",
       "\n",
       "    .dataframe tbody tr th {\n",
       "        vertical-align: top;\n",
       "    }\n",
       "\n",
       "    .dataframe thead th {\n",
       "        text-align: right;\n",
       "    }\n",
       "</style>\n",
       "<table border=\"1\" class=\"dataframe\">\n",
       "  <thead>\n",
       "    <tr style=\"text-align: right;\">\n",
       "      <th></th>\n",
       "      <th>Department/Fund/Expense</th>\n",
       "      <th>Appropriated</th>\n",
       "      <th>% of Total</th>\n",
       "    </tr>\n",
       "  </thead>\n",
       "  <tbody>\n",
       "    <tr>\n",
       "      <th>0</th>\n",
       "      <td>Police</td>\n",
       "      <td>$66,150,304</td>\n",
       "      <td>59.11%</td>\n",
       "    </tr>\n",
       "    <tr>\n",
       "      <th>1</th>\n",
       "      <td>Fire</td>\n",
       "      <td>$13,711,003</td>\n",
       "      <td>12.25%</td>\n",
       "    </tr>\n",
       "    <tr>\n",
       "      <th>2</th>\n",
       "      <td>Bureau of Sanitation</td>\n",
       "      <td>$11,556,615</td>\n",
       "      <td>10.33%</td>\n",
       "    </tr>\n",
       "    <tr>\n",
       "      <th>3</th>\n",
       "      <td>City Planning</td>\n",
       "      <td>$10,393,412</td>\n",
       "      <td>9.29%</td>\n",
       "    </tr>\n",
       "    <tr>\n",
       "      <th>4</th>\n",
       "      <td>Housing and Community Investment</td>\n",
       "      <td>$4,165,240</td>\n",
       "      <td>3.72%</td>\n",
       "    </tr>\n",
       "    <tr>\n",
       "      <th>5</th>\n",
       "      <td>Transportation</td>\n",
       "      <td>$2,537,544</td>\n",
       "      <td>2.27%</td>\n",
       "    </tr>\n",
       "    <tr>\n",
       "      <th>6</th>\n",
       "      <td>Economic and Workforce Development</td>\n",
       "      <td>$1,723,833</td>\n",
       "      <td>1.54%</td>\n",
       "    </tr>\n",
       "    <tr>\n",
       "      <th>7</th>\n",
       "      <td>City Clerk</td>\n",
       "      <td>$991,796</td>\n",
       "      <td>0.89%</td>\n",
       "    </tr>\n",
       "    <tr>\n",
       "      <th>8</th>\n",
       "      <td>Zoo</td>\n",
       "      <td>$675,400</td>\n",
       "      <td>0.60%</td>\n",
       "    </tr>\n",
       "    <tr>\n",
       "      <th>9</th>\n",
       "      <td>Total</td>\n",
       "      <td>$111,905,147</td>\n",
       "      <td>100%</td>\n",
       "    </tr>\n",
       "  </tbody>\n",
       "</table>\n",
       "</div>"
      ],
      "text/plain": [
       "              Department/Fund/Expense  Appropriated % of Total\n",
       "0                              Police   $66,150,304     59.11%\n",
       "1                                Fire   $13,711,003     12.25%\n",
       "2                Bureau of Sanitation   $11,556,615     10.33%\n",
       "3                       City Planning   $10,393,412      9.29%\n",
       "4    Housing and Community Investment    $4,165,240      3.72%\n",
       "5                      Transportation    $2,537,544      2.27%\n",
       "6  Economic and Workforce Development    $1,723,833      1.54%\n",
       "7                          City Clerk      $991,796      0.89%\n",
       "8                                 Zoo      $675,400      0.60%\n",
       "9                               Total  $111,905,147       100%"
      ]
     },
     "execution_count": 617,
     "metadata": {},
     "output_type": "execute_result"
    }
   ],
   "source": [
    "tech_20 = create_tech_dfs(2020)[0]\n",
    "tech_20"
   ]
  },
  {
   "cell_type": "markdown",
   "metadata": {},
   "source": [
    "# Combination Technology Support Budgets: 2019-20 VS 2020-21"
   ]
  },
  {
   "cell_type": "code",
   "execution_count": 618,
   "metadata": {},
   "outputs": [
    {
     "data": {
      "text/html": [
       "<div>\n",
       "<style scoped>\n",
       "    .dataframe tbody tr th:only-of-type {\n",
       "        vertical-align: middle;\n",
       "    }\n",
       "\n",
       "    .dataframe tbody tr th {\n",
       "        vertical-align: top;\n",
       "    }\n",
       "\n",
       "    .dataframe thead th {\n",
       "        text-align: right;\n",
       "    }\n",
       "</style>\n",
       "<table border=\"1\" class=\"dataframe\">\n",
       "  <thead>\n",
       "    <tr style=\"text-align: right;\">\n",
       "      <th></th>\n",
       "      <th>Department/Fund/Expense</th>\n",
       "      <th>FY20 Appropriated</th>\n",
       "      <th>FY20 % of Total</th>\n",
       "      <th>FY21 Appropriated</th>\n",
       "      <th>FY21 % of Total</th>\n",
       "      <th>FY20, FY21 % Change</th>\n",
       "    </tr>\n",
       "  </thead>\n",
       "  <tbody>\n",
       "    <tr>\n",
       "      <th>0</th>\n",
       "      <td>Police</td>\n",
       "      <td>66150304.0</td>\n",
       "      <td>59.11</td>\n",
       "      <td>64427092.0</td>\n",
       "      <td>60.35</td>\n",
       "      <td>-2.604995</td>\n",
       "    </tr>\n",
       "    <tr>\n",
       "      <th>1</th>\n",
       "      <td>Fire</td>\n",
       "      <td>13711003.0</td>\n",
       "      <td>12.25</td>\n",
       "      <td>11147539.0</td>\n",
       "      <td>10.44</td>\n",
       "      <td>-18.696400</td>\n",
       "    </tr>\n",
       "    <tr>\n",
       "      <th>2</th>\n",
       "      <td>Bureau of Sanitation</td>\n",
       "      <td>11556615.0</td>\n",
       "      <td>10.33</td>\n",
       "      <td>11735791.0</td>\n",
       "      <td>10.99</td>\n",
       "      <td>1.550419</td>\n",
       "    </tr>\n",
       "    <tr>\n",
       "      <th>3</th>\n",
       "      <td>City Planning</td>\n",
       "      <td>10393412.0</td>\n",
       "      <td>9.29</td>\n",
       "      <td>9713253.0</td>\n",
       "      <td>9.10</td>\n",
       "      <td>-6.544136</td>\n",
       "    </tr>\n",
       "    <tr>\n",
       "      <th>4</th>\n",
       "      <td>Housing and Community Investment</td>\n",
       "      <td>4165240.0</td>\n",
       "      <td>3.72</td>\n",
       "      <td>3439245.0</td>\n",
       "      <td>3.22</td>\n",
       "      <td>-17.429848</td>\n",
       "    </tr>\n",
       "  </tbody>\n",
       "</table>\n",
       "</div>"
      ],
      "text/plain": [
       "            Department/Fund/Expense  FY20 Appropriated  FY20 % of Total  \\\n",
       "0                            Police         66150304.0            59.11   \n",
       "1                              Fire         13711003.0            12.25   \n",
       "2              Bureau of Sanitation         11556615.0            10.33   \n",
       "3                     City Planning         10393412.0             9.29   \n",
       "4  Housing and Community Investment          4165240.0             3.72   \n",
       "\n",
       "   FY21 Appropriated  FY21 % of Total  FY20, FY21 % Change  \n",
       "0         64427092.0            60.35            -2.604995  \n",
       "1         11147539.0            10.44           -18.696400  \n",
       "2         11735791.0            10.99             1.550419  \n",
       "3          9713253.0             9.10            -6.544136  \n",
       "4          3439245.0             3.22           -17.429848  "
      ]
     },
     "execution_count": 618,
     "metadata": {},
     "output_type": "execute_result"
    }
   ],
   "source": [
    "tech_merged = merge_20_21(tech_20, tech_21, 'Department/Fund/Expense')\n",
    "tech_merged.head()"
   ]
  },
  {
   "cell_type": "code",
   "execution_count": 619,
   "metadata": {},
   "outputs": [
    {
     "data": {
      "text/plain": [
       "<matplotlib.axes._subplots.AxesSubplot at 0x1222ea2b0>"
      ]
     },
     "execution_count": 619,
     "metadata": {},
     "output_type": "execute_result"
    },
    {
     "data": {
      "image/png": "[encoded data removed]",
      "text/plain": [
       "<Figure size 1440x720 with 1 Axes>"
      ]
     },
     "metadata": {
      "needs_background": "light"
     },
     "output_type": "display_data"
    }
   ],
   "source": [
    "merged_bar_plot(tech_merged)"
   ]
  }
 ],
 "metadata": {
  "kernelspec": {
   "display_name": "Python 3",
   "language": "python",
   "name": "python3"
  },
  "language_info": {
   "codemirror_mode": {
    "name": "ipython",
    "version": 3
   },
   "file_extension": ".py",
   "mimetype": "text/x-python",
   "name": "python",
   "nbconvert_exporter": "python",
   "pygments_lexer": "ipython3",
   "version": "3.7.3"
  }
 },
 "nbformat": 4,
 "nbformat_minor": 2
}
